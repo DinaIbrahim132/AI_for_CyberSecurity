{
 "cells": [
  {
   "cell_type": "code",
   "execution_count": 1,
   "id": "9d9fd76e",
   "metadata": {},
   "outputs": [],
   "source": [
    "#Required Libraries\n",
    "# !pip install graphviz\n",
    "# !pip install seaborn\n",
    "# !pip install pydotplus\n",
    "import numpy as np\n",
    "import matplotlib.pyplot as plt\n",
    "from matplotlib.colors import ListedColormap\n",
    "import sklearn\n",
    "from sklearn.svm import SVC\n",
    "from sklearn import  datasets\n",
    "from sklearn import metrics\n",
    "from sklearn.metrics import classification_report,confusion_matrix,plot_confusion_matrix,accuracy_score\n",
    "from mlxtend.plotting import plot_decision_regions\n",
    "from sklearn.linear_model import LogisticRegression\n",
    "from sklearn.multiclass import OneVsRestClassifier\n",
    "from sklearn.tree import DecisionTreeClassifier \n",
    "from sklearn.tree import export_graphviz \n",
    "import seaborn as sns\n",
    "from IPython.display import Image  \n",
    "import pydotplus\n",
    "from sklearn.naive_bayes import GaussianNB\n",
    "from scipy.stats import norm\n",
    "import pandas\n",
    "from sklearn.model_selection import train_test_split\n",
    "from sklearn import preprocessing\n",
    "from sklearn.ensemble import RandomForestClassifier\n",
    "from sklearn.ensemble import AdaBoostClassifier\n",
    "from sklearn.naive_bayes import MultinomialNB\n",
    "import pandas\n",
    "from sklearn.utils import shuffle\n",
    "from sklearn import svm\n",
    "import xgboost as xgb\n",
    "import imblearn\n",
    "from collections import Counter\n",
    "from imblearn.over_sampling import SMOTE\n",
    "from sklearn.neighbors import KNeighborsRegressor\n",
    "from sklearn.ensemble import VotingClassifier\n",
    "from sklearn.metrics import accuracy_score\n",
    "from sklearn import preprocessing\n",
    "from xgboost import XGBClassifier\n",
    "import pandas as pd\n",
    "from sklearn.ensemble import RandomForestClassifier\n",
    "from sklearn.datasets import make_classification\n",
    "from sklearn import preprocessing\n",
    "from sklearn.preprocessing import OneHotEncoder\n",
    "from sklearn.preprocessing import LabelEncoder\n",
    "from sklearn.discriminant_analysis import LinearDiscriminantAnalysis as LDA\n",
    "from sklearn.preprocessing import Normalizer\n",
    "from sklearn.preprocessing import MinMaxScaler\n",
    "from sklearn.preprocessing import StandardScaler\n",
    "from sklearn.preprocessing import RobustScaler\n",
    "from sklearn.metrics import f1_score\n",
    "from pandas.api.types import CategoricalDtype \n",
    "from sklearn.neighbors import KNeighborsClassifier\n",
    "from sklearn.model_selection import learning_curve,GridSearchCV\n"
   ]
  },
  {
   "cell_type": "code",
   "execution_count": 2,
   "id": "9d64e1b2",
   "metadata": {},
   "outputs": [],
   "source": [
    "np.random.seed(50)\n",
    "df = pandas.read_csv('generated.csv')\n",
    "testing1= pandas.read_csv('Val.csv')\n",
    "testing2= pandas.read_csv('Test.csv')"
   ]
  },
  {
   "cell_type": "code",
   "execution_count": 3,
   "id": "ccbc5c6a",
   "metadata": {},
   "outputs": [],
   "source": [
    "algorithm=[]\n",
    "f1_test1=[]\n",
    "f1_test2=[]"
   ]
  },
  {
   "cell_type": "code",
   "execution_count": 4,
   "id": "ab27257e",
   "metadata": {},
   "outputs": [],
   "source": [
    "X = df\n",
    "y = X.attack\n",
    "X = X.drop(['attack'],axis=1)"
   ]
  },
  {
   "cell_type": "code",
   "execution_count": 5,
   "id": "5658cd28",
   "metadata": {},
   "outputs": [],
   "source": [
    "X_test1 = testing1\n",
    "y_test1 = X_test1.attack\n",
    "X_test1 = X_test1.drop(['attack'],axis=1)"
   ]
  },
  {
   "cell_type": "code",
   "execution_count": 6,
   "id": "63272fd9",
   "metadata": {},
   "outputs": [],
   "source": [
    "X_test2 = testing2\n",
    "y_test2 = X_test2.attack\n",
    "X_test2 = X_test2.drop(['attack'],axis=1)"
   ]
  },
  {
   "cell_type": "markdown",
   "id": "ab36f0a7",
   "metadata": {},
   "source": [
    "# DT"
   ]
  },
  {
   "cell_type": "code",
   "execution_count": 7,
   "id": "fa52d023",
   "metadata": {},
   "outputs": [
    {
     "name": "stdout",
     "output_type": "stream",
     "text": [
      "1.0\n",
      "{'max_depth': 5}\n",
      "DecisionTreeClassifier(max_depth=5)\n"
     ]
    },
    {
     "data": {
      "text/plain": [
       "DecisionTreeClassifier(max_depth=5)"
      ]
     },
     "execution_count": 7,
     "metadata": {},
     "output_type": "execute_result"
    }
   ],
   "source": [
    "classifier = DecisionTreeClassifier()\n",
    "depth_range = list(range(5, 20))\n",
    "#param_grid_dt = dict(max_depth=depth_range)\n",
    "param = {'max_depth': depth_range}\n",
    "grid = GridSearchCV(classifier, param, cv=10, scoring='f1_macro')\n",
    "grid.fit(X, y)\n",
    "print(grid.best_score_)\n",
    "print(grid.best_params_)\n",
    "print(grid.best_estimator_)\n",
    "#static\n",
    "model = grid.best_estimator_\n",
    "model.fit(X, y)"
   ]
  },
  {
   "cell_type": "code",
   "execution_count": 8,
   "id": "4f3a17cb",
   "metadata": {},
   "outputs": [],
   "source": [
    "algorithm.append('DT')"
   ]
  },
  {
   "cell_type": "code",
   "execution_count": 9,
   "id": "1f0f3f91",
   "metadata": {},
   "outputs": [
    {
     "name": "stdout",
     "output_type": "stream",
     "text": [
      "F1 score : -> 0.9231889333818712\n",
      "\n",
      "Classification Report for DT : \n",
      "\n",
      "              precision    recall  f1-score   support\n",
      "\n",
      "           0       0.97      0.86      0.91     11309\n",
      "           1       0.88      0.97      0.92     11726\n",
      "\n",
      "    accuracy                           0.92     23035\n",
      "   macro avg       0.92      0.92      0.92     23035\n",
      "weighted avg       0.92      0.92      0.92     23035\n",
      "\n",
      "\n",
      "Confusion Matrix  :\n",
      " [[ 9724  1585]\n",
      " [  314 11412]]\n"
     ]
    },
    {
     "name": "stderr",
     "output_type": "stream",
     "text": [
      "C:\\ProgramData\\Anaconda3\\lib\\site-packages\\sklearn\\utils\\deprecation.py:87: FutureWarning: Function plot_confusion_matrix is deprecated; Function `plot_confusion_matrix` is deprecated in 1.0 and will be removed in 1.2. Use one of the class methods: ConfusionMatrixDisplay.from_predictions or ConfusionMatrixDisplay.from_estimator.\n",
      "  warnings.warn(msg, category=FutureWarning)\n"
     ]
    },
    {
     "data": {
      "image/png": "[encoded data removed]",
      "text/plain": [
       "<Figure size 432x288 with 2 Axes>"
      ]
     },
     "metadata": {
      "needs_background": "light"
     },
     "output_type": "display_data"
    }
   ],
   "source": [
    "y_pred=model.predict(X_test1)\n",
    "Score= f1_score(y_test1,y_pred)\n",
    "print(\"F1 score : ->\",Score)\n",
    "print(f\"\\nClassification Report for DT : \\n\\n{classification_report(y_test1, y_pred)}\")\n",
    "print(\"\\nConfusion Matrix  :\\n\",confusion_matrix(y_test1,y_pred))\n",
    "plot_confusion_matrix(model ,X_test1 ,y_test1)\n",
    "plt.title(\"Confusion Matrix for DT \")\n",
    "f1_test1.append(Score)"
   ]
  },
  {
   "cell_type": "code",
   "execution_count": 10,
   "id": "6da124ab",
   "metadata": {},
   "outputs": [
    {
     "name": "stdout",
     "output_type": "stream",
     "text": [
      "F1 score : -> 0.8048727049647254\n",
      "\n",
      "Classification Report for DT : \n",
      "\n",
      "              precision    recall  f1-score   support\n",
      "\n",
      "           0       0.71      0.92      0.80      9711\n",
      "           1       0.92      0.72      0.80     12833\n",
      "\n",
      "    accuracy                           0.80     22544\n",
      "   macro avg       0.81      0.82      0.80     22544\n",
      "weighted avg       0.83      0.80      0.80     22544\n",
      "\n",
      "\n",
      "Confusion Matrix  :\n",
      " [[8907  804]\n",
      " [3649 9184]]\n"
     ]
    },
    {
     "name": "stderr",
     "output_type": "stream",
     "text": [
      "C:\\ProgramData\\Anaconda3\\lib\\site-packages\\sklearn\\utils\\deprecation.py:87: FutureWarning: Function plot_confusion_matrix is deprecated; Function `plot_confusion_matrix` is deprecated in 1.0 and will be removed in 1.2. Use one of the class methods: ConfusionMatrixDisplay.from_predictions or ConfusionMatrixDisplay.from_estimator.\n",
      "  warnings.warn(msg, category=FutureWarning)\n"
     ]
    },
    {
     "data": {
      "image/png": "[encoded data removed]",
      "text/plain": [
       "<Figure size 432x288 with 2 Axes>"
      ]
     },
     "metadata": {
      "needs_background": "light"
     },
     "output_type": "display_data"
    }
   ],
   "source": [
    "y_pred = model.predict(X_test2)\n",
    "Score = f1_score(y_test2,y_pred)\n",
    "print(\"F1 score : ->\",Score)\n",
    "print(f\"\\nClassification Report for DT : \\n\\n{classification_report(y_test2, y_pred)}\")\n",
    "print(\"\\nConfusion Matrix  :\\n\",confusion_matrix(y_test2,y_pred))\n",
    "plot_confusion_matrix(model ,X_test2 ,y_test2)\n",
    "plt.title(\"Confusion Matrix for DT \")\n",
    "f1_test2.append(Score)"
   ]
  },
  {
   "cell_type": "markdown",
   "id": "e46a1de7",
   "metadata": {},
   "source": [
    "# Random Forest"
   ]
  },
  {
   "cell_type": "code",
   "execution_count": 11,
   "id": "4ce0d653",
   "metadata": {},
   "outputs": [
    {
     "name": "stdout",
     "output_type": "stream",
     "text": [
      "1.0\n",
      "{'n_estimators': 10}\n",
      "RandomForestClassifier(n_estimators=10)\n"
     ]
    },
    {
     "data": {
      "text/plain": [
       "RandomForestClassifier(n_estimators=10)"
      ]
     },
     "execution_count": 11,
     "metadata": {},
     "output_type": "execute_result"
    }
   ],
   "source": [
    "classifier = RandomForestClassifier()\n",
    "#param_grid_dt = dict(max_depth=depth_range)\n",
    "param = {\n",
    "    'n_estimators': [10, 30, 50, 80, 100, 200]\n",
    "    #'n_estimators': [80]\n",
    "}\n",
    "grid = GridSearchCV(classifier, param, cv=10, scoring='f1_macro')\n",
    "grid.fit(X, y)\n",
    "print(grid.best_score_)\n",
    "print(grid.best_params_)\n",
    "print(grid.best_estimator_)\n",
    "#static\n",
    "model = grid.best_estimator_\n",
    "model.fit(X, y)"
   ]
  },
  {
   "cell_type": "code",
   "execution_count": 12,
   "id": "99f138e0",
   "metadata": {},
   "outputs": [],
   "source": [
    "algorithm.append('RF')"
   ]
  },
  {
   "cell_type": "code",
   "execution_count": 13,
   "id": "beaa6d96",
   "metadata": {},
   "outputs": [
    {
     "name": "stdout",
     "output_type": "stream",
     "text": [
      "F1 score : -> 0.9182516140289653\n",
      "\n",
      "Classification Report for RF : \n",
      "\n",
      "              precision    recall  f1-score   support\n",
      "\n",
      "           0       0.90      0.94      0.92     11309\n",
      "           1       0.94      0.90      0.92     11726\n",
      "\n",
      "    accuracy                           0.92     23035\n",
      "   macro avg       0.92      0.92      0.92     23035\n",
      "weighted avg       0.92      0.92      0.92     23035\n",
      "\n",
      "\n",
      "Confusion Matrix  :\n",
      " [[10636   673]\n",
      " [ 1201 10525]]\n"
     ]
    },
    {
     "name": "stderr",
     "output_type": "stream",
     "text": [
      "C:\\ProgramData\\Anaconda3\\lib\\site-packages\\sklearn\\utils\\deprecation.py:87: FutureWarning: Function plot_confusion_matrix is deprecated; Function `plot_confusion_matrix` is deprecated in 1.0 and will be removed in 1.2. Use one of the class methods: ConfusionMatrixDisplay.from_predictions or ConfusionMatrixDisplay.from_estimator.\n",
      "  warnings.warn(msg, category=FutureWarning)\n"
     ]
    },
    {
     "data": {
      "image/png": "[encoded data removed]",
      "text/plain": [
       "<Figure size 432x288 with 2 Axes>"
      ]
     },
     "metadata": {
      "needs_background": "light"
     },
     "output_type": "display_data"
    }
   ],
   "source": [
    "y_pred=model.predict(X_test1)\n",
    "Score= f1_score(y_test1,y_pred)\n",
    "print(\"F1 score : ->\",Score)\n",
    "print(f\"\\nClassification Report for RF : \\n\\n{classification_report(y_test1, y_pred)}\")\n",
    "print(\"\\nConfusion Matrix  :\\n\",confusion_matrix(y_test1,y_pred))\n",
    "plot_confusion_matrix(model ,X_test1 ,y_test1)\n",
    "plt.title(\"Confusion Matrix for RF \")\n",
    "f1_test1.append(Score)"
   ]
  },
  {
   "cell_type": "code",
   "execution_count": 14,
   "id": "b33bf114",
   "metadata": {},
   "outputs": [
    {
     "name": "stdout",
     "output_type": "stream",
     "text": [
      "F1 score : -> 0.7448295672156261\n",
      "\n",
      "Classification Report for RF : \n",
      "\n",
      "              precision    recall  f1-score   support\n",
      "\n",
      "           0       0.65      0.97      0.78      9711\n",
      "           1       0.97      0.61      0.74     12833\n",
      "\n",
      "    accuracy                           0.76     22544\n",
      "   macro avg       0.81      0.79      0.76     22544\n",
      "weighted avg       0.83      0.76      0.76     22544\n",
      "\n",
      "\n",
      "Confusion Matrix  :\n",
      " [[9435  276]\n",
      " [5054 7779]]\n"
     ]
    },
    {
     "name": "stderr",
     "output_type": "stream",
     "text": [
      "C:\\ProgramData\\Anaconda3\\lib\\site-packages\\sklearn\\utils\\deprecation.py:87: FutureWarning: Function plot_confusion_matrix is deprecated; Function `plot_confusion_matrix` is deprecated in 1.0 and will be removed in 1.2. Use one of the class methods: ConfusionMatrixDisplay.from_predictions or ConfusionMatrixDisplay.from_estimator.\n",
      "  warnings.warn(msg, category=FutureWarning)\n"
     ]
    },
    {
     "data": {
      "image/png": "[encoded data removed]",
      "text/plain": [
       "<Figure size 432x288 with 2 Axes>"
      ]
     },
     "metadata": {
      "needs_background": "light"
     },
     "output_type": "display_data"
    }
   ],
   "source": [
    "y_pred = model.predict(X_test2)\n",
    "Score = f1_score(y_test2,y_pred)\n",
    "print(\"F1 score : ->\",Score)\n",
    "print(f\"\\nClassification Report for RF : \\n\\n{classification_report(y_test2, y_pred)}\")\n",
    "print(\"\\nConfusion Matrix  :\\n\",confusion_matrix(y_test2,y_pred))\n",
    "plot_confusion_matrix(model ,X_test2 ,y_test2)\n",
    "plt.title(\"Confusion Matrix for RF \")\n",
    "f1_test2.append(Score)"
   ]
  },
  {
   "cell_type": "markdown",
   "id": "8b64e995",
   "metadata": {},
   "source": [
    "# KNN"
   ]
  },
  {
   "cell_type": "code",
   "execution_count": 15,
   "id": "2073a1d2",
   "metadata": {},
   "outputs": [
    {
     "name": "stdout",
     "output_type": "stream",
     "text": [
      "1.0\n",
      "{'n_neighbors': 1}\n",
      "KNeighborsClassifier(n_neighbors=1)\n"
     ]
    },
    {
     "data": {
      "text/plain": [
       "KNeighborsClassifier(n_neighbors=1)"
      ]
     },
     "execution_count": 15,
     "metadata": {},
     "output_type": "execute_result"
    }
   ],
   "source": [
    "classifier = KNeighborsClassifier()\n",
    "#param_grid_dt = dict(max_depth=depth_range)\n",
    "param = {\n",
    "    'n_neighbors': list(range(1, 4))\n",
    "    #'n_neighbors': [1]\n",
    "}\n",
    "grid = GridSearchCV(classifier, param, cv=10, scoring='f1_macro')\n",
    "grid.fit(X, y)\n",
    "print(grid.best_score_)\n",
    "print(grid.best_params_)\n",
    "print(grid.best_estimator_)\n",
    "#static\n",
    "model = grid.best_estimator_\n",
    "model.fit(X, y)"
   ]
  },
  {
   "cell_type": "code",
   "execution_count": 16,
   "id": "6928c359",
   "metadata": {},
   "outputs": [],
   "source": [
    "algorithm.append('KNN')"
   ]
  },
  {
   "cell_type": "code",
   "execution_count": 17,
   "id": "95d40d86",
   "metadata": {},
   "outputs": [
    {
     "name": "stdout",
     "output_type": "stream",
     "text": [
      "F1 score : -> 0.8534049230536545\n",
      "\n",
      "Classification Report for KNN : \n",
      "\n",
      "              precision    recall  f1-score   support\n",
      "\n",
      "           0       0.95      0.70      0.80     11309\n",
      "           1       0.77      0.96      0.85     11726\n",
      "\n",
      "    accuracy                           0.83     23035\n",
      "   macro avg       0.86      0.83      0.83     23035\n",
      "weighted avg       0.86      0.83      0.83     23035\n",
      "\n",
      "\n",
      "Confusion Matrix  :\n",
      " [[ 7873  3436]\n",
      " [  441 11285]]\n"
     ]
    },
    {
     "name": "stderr",
     "output_type": "stream",
     "text": [
      "C:\\ProgramData\\Anaconda3\\lib\\site-packages\\sklearn\\utils\\deprecation.py:87: FutureWarning: Function plot_confusion_matrix is deprecated; Function `plot_confusion_matrix` is deprecated in 1.0 and will be removed in 1.2. Use one of the class methods: ConfusionMatrixDisplay.from_predictions or ConfusionMatrixDisplay.from_estimator.\n",
      "  warnings.warn(msg, category=FutureWarning)\n"
     ]
    },
    {
     "data": {
      "image/png": "[encoded data removed]",
      "text/plain": [
       "<Figure size 432x288 with 2 Axes>"
      ]
     },
     "metadata": {
      "needs_background": "light"
     },
     "output_type": "display_data"
    }
   ],
   "source": [
    "y_pred=model.predict(X_test1)\n",
    "Score= f1_score(y_test1,y_pred)\n",
    "print(\"F1 score : ->\",Score)\n",
    "print(f\"\\nClassification Report for KNN : \\n\\n{classification_report(y_test1, y_pred)}\")\n",
    "print(\"\\nConfusion Matrix  :\\n\",confusion_matrix(y_test1,y_pred))\n",
    "plot_confusion_matrix(model ,X_test1 ,y_test1)\n",
    "plt.title(\"Confusion Matrix for KNN \")\n",
    "f1_test1.append(Score)"
   ]
  },
  {
   "cell_type": "code",
   "execution_count": 18,
   "id": "b2f13156",
   "metadata": {},
   "outputs": [
    {
     "name": "stdout",
     "output_type": "stream",
     "text": [
      "F1 score : -> 0.8461883073247219\n",
      "\n",
      "Classification Report for KNN : \n",
      "\n",
      "              precision    recall  f1-score   support\n",
      "\n",
      "           0       0.83      0.73      0.77      9711\n",
      "           1       0.81      0.88      0.85     12833\n",
      "\n",
      "    accuracy                           0.82     22544\n",
      "   macro avg       0.82      0.81      0.81     22544\n",
      "weighted avg       0.82      0.82      0.82     22544\n",
      "\n",
      "\n",
      "Confusion Matrix  :\n",
      " [[ 7091  2620]\n",
      " [ 1500 11333]]\n"
     ]
    },
    {
     "name": "stderr",
     "output_type": "stream",
     "text": [
      "C:\\ProgramData\\Anaconda3\\lib\\site-packages\\sklearn\\utils\\deprecation.py:87: FutureWarning: Function plot_confusion_matrix is deprecated; Function `plot_confusion_matrix` is deprecated in 1.0 and will be removed in 1.2. Use one of the class methods: ConfusionMatrixDisplay.from_predictions or ConfusionMatrixDisplay.from_estimator.\n",
      "  warnings.warn(msg, category=FutureWarning)\n"
     ]
    },
    {
     "data": {
      "image/png": "[encoded data removed]",
      "text/plain": [
       "<Figure size 432x288 with 2 Axes>"
      ]
     },
     "metadata": {
      "needs_background": "light"
     },
     "output_type": "display_data"
    }
   ],
   "source": [
    "y_pred = model.predict(X_test2)\n",
    "Score = f1_score(y_test2,y_pred)\n",
    "print(\"F1 score : ->\",Score)\n",
    "print(f\"\\nClassification Report for KNN : \\n\\n{classification_report(y_test2, y_pred)}\")\n",
    "print(\"\\nConfusion Matrix  :\\n\",confusion_matrix(y_test2,y_pred))\n",
    "plot_confusion_matrix(model ,X_test2 ,y_test2)\n",
    "plt.title(\"Confusion Matrix for KNN \")\n",
    "f1_test2.append(Score)"
   ]
  },
  {
   "cell_type": "markdown",
   "id": "0838c07c",
   "metadata": {},
   "source": [
    "# Logistic Regression"
   ]
  },
  {
   "cell_type": "code",
   "execution_count": 19,
   "id": "35188ef4",
   "metadata": {},
   "outputs": [
    {
     "name": "stderr",
     "output_type": "stream",
     "text": [
      "C:\\ProgramData\\Anaconda3\\lib\\site-packages\\sklearn\\model_selection\\_validation.py:372: FitFailedWarning: \n",
      "20 fits failed out of a total of 30.\n",
      "The score on these train-test partitions for these parameters will be set to nan.\n",
      "If these failures are not expected, you can try to debug them by setting error_score='raise'.\n",
      "\n",
      "Below are more details about the failures:\n",
      "--------------------------------------------------------------------------------\n",
      "10 fits failed with the following error:\n",
      "Traceback (most recent call last):\n",
      "  File \"C:\\ProgramData\\Anaconda3\\lib\\site-packages\\sklearn\\model_selection\\_validation.py\", line 681, in _fit_and_score\n",
      "    estimator.fit(X_train, y_train, **fit_params)\n",
      "  File \"C:\\ProgramData\\Anaconda3\\lib\\site-packages\\sklearn\\linear_model\\_logistic.py\", line 1461, in fit\n",
      "    solver = _check_solver(self.solver, self.penalty, self.dual)\n",
      "  File \"C:\\ProgramData\\Anaconda3\\lib\\site-packages\\sklearn\\linear_model\\_logistic.py\", line 447, in _check_solver\n",
      "    raise ValueError(\n",
      "ValueError: Solver lbfgs supports only 'l2' or 'none' penalties, got l1 penalty.\n",
      "\n",
      "--------------------------------------------------------------------------------\n",
      "10 fits failed with the following error:\n",
      "Traceback (most recent call last):\n",
      "  File \"C:\\ProgramData\\Anaconda3\\lib\\site-packages\\sklearn\\model_selection\\_validation.py\", line 681, in _fit_and_score\n",
      "    estimator.fit(X_train, y_train, **fit_params)\n",
      "  File \"C:\\ProgramData\\Anaconda3\\lib\\site-packages\\sklearn\\linear_model\\_logistic.py\", line 1461, in fit\n",
      "    solver = _check_solver(self.solver, self.penalty, self.dual)\n",
      "  File \"C:\\ProgramData\\Anaconda3\\lib\\site-packages\\sklearn\\linear_model\\_logistic.py\", line 447, in _check_solver\n",
      "    raise ValueError(\n",
      "ValueError: Solver lbfgs supports only 'l2' or 'none' penalties, got elasticnet penalty.\n",
      "\n",
      "  warnings.warn(some_fits_failed_message, FitFailedWarning)\n",
      "C:\\ProgramData\\Anaconda3\\lib\\site-packages\\sklearn\\model_selection\\_search.py:969: UserWarning: One or more of the test scores are non-finite: [nan  1. nan]\n",
      "  warnings.warn(\n"
     ]
    },
    {
     "name": "stdout",
     "output_type": "stream",
     "text": [
      "1.0\n",
      "{'penalty': 'l2', 'solver': 'lbfgs'}\n",
      "LogisticRegression()\n"
     ]
    },
    {
     "data": {
      "text/plain": [
       "LogisticRegression()"
      ]
     },
     "execution_count": 19,
     "metadata": {},
     "output_type": "execute_result"
    }
   ],
   "source": [
    "from sklearn.preprocessing import PolynomialFeatures\n",
    "\n",
    "classifier = LogisticRegression()\n",
    "#param_grid_dt = dict(max_depth=depth_range)\n",
    "param = {\n",
    "    'solver': ['lbfgs'],'penalty':[ 'l1', 'l2', 'elasticnet']\n",
    "    #'solver': ['lbfgs'],'penalty':['l2']\n",
    "}\n",
    "grid = GridSearchCV(classifier, param, cv=10, scoring='f1_macro')\n",
    "grid.fit(X, y)\n",
    "print(grid.best_score_)\n",
    "print(grid.best_params_)\n",
    "print(grid.best_estimator_)\n",
    "#static\n",
    "model = grid.best_estimator_\n",
    "model.fit(X, y)"
   ]
  },
  {
   "cell_type": "code",
   "execution_count": 20,
   "id": "6b311b78",
   "metadata": {},
   "outputs": [],
   "source": [
    "algorithm.append('LR')"
   ]
  },
  {
   "cell_type": "code",
   "execution_count": 21,
   "id": "e7d7b425",
   "metadata": {},
   "outputs": [
    {
     "name": "stdout",
     "output_type": "stream",
     "text": [
      "F1 score : -> 0.90860048640283\n",
      "\n",
      "Classification Report for KNN : \n",
      "\n",
      "              precision    recall  f1-score   support\n",
      "\n",
      "           0       0.88      0.95      0.91     11309\n",
      "           1       0.94      0.88      0.91     11726\n",
      "\n",
      "    accuracy                           0.91     23035\n",
      "   macro avg       0.91      0.91      0.91     23035\n",
      "weighted avg       0.91      0.91      0.91     23035\n",
      "\n",
      "\n",
      "Confusion Matrix  :\n",
      " [[10694   615]\n",
      " [ 1452 10274]]\n"
     ]
    },
    {
     "name": "stderr",
     "output_type": "stream",
     "text": [
      "C:\\ProgramData\\Anaconda3\\lib\\site-packages\\sklearn\\utils\\deprecation.py:87: FutureWarning: Function plot_confusion_matrix is deprecated; Function `plot_confusion_matrix` is deprecated in 1.0 and will be removed in 1.2. Use one of the class methods: ConfusionMatrixDisplay.from_predictions or ConfusionMatrixDisplay.from_estimator.\n",
      "  warnings.warn(msg, category=FutureWarning)\n"
     ]
    },
    {
     "data": {
      "image/png": "[encoded data removed]",
      "text/plain": [
       "<Figure size 432x288 with 2 Axes>"
      ]
     },
     "metadata": {
      "needs_background": "light"
     },
     "output_type": "display_data"
    }
   ],
   "source": [
    "y_pred=model.predict(X_test1)\n",
    "Score= f1_score(y_test1,y_pred)\n",
    "print(\"F1 score : ->\",Score)\n",
    "print(f\"\\nClassification Report for KNN : \\n\\n{classification_report(y_test1, y_pred)}\")\n",
    "print(\"\\nConfusion Matrix  :\\n\",confusion_matrix(y_test1,y_pred))\n",
    "plot_confusion_matrix(model ,X_test1 ,y_test1)\n",
    "plt.title(\"Confusion Matrix for KNN \")\n",
    "f1_test1.append(Score)"
   ]
  },
  {
   "cell_type": "code",
   "execution_count": 22,
   "id": "e73dbe1b",
   "metadata": {},
   "outputs": [
    {
     "name": "stdout",
     "output_type": "stream",
     "text": [
      "F1 score : -> 0.7906224030092289\n",
      "\n",
      "Classification Report for KNN : \n",
      "\n",
      "              precision    recall  f1-score   support\n",
      "\n",
      "           0       0.70      0.90      0.78      9711\n",
      "           1       0.90      0.70      0.79     12833\n",
      "\n",
      "    accuracy                           0.79     22544\n",
      "   macro avg       0.80      0.80      0.79     22544\n",
      "weighted avg       0.81      0.79      0.79     22544\n",
      "\n",
      "\n",
      "Confusion Matrix  :\n",
      " [[8719  992]\n",
      " [3795 9038]]\n"
     ]
    },
    {
     "name": "stderr",
     "output_type": "stream",
     "text": [
      "C:\\ProgramData\\Anaconda3\\lib\\site-packages\\sklearn\\utils\\deprecation.py:87: FutureWarning: Function plot_confusion_matrix is deprecated; Function `plot_confusion_matrix` is deprecated in 1.0 and will be removed in 1.2. Use one of the class methods: ConfusionMatrixDisplay.from_predictions or ConfusionMatrixDisplay.from_estimator.\n",
      "  warnings.warn(msg, category=FutureWarning)\n"
     ]
    },
    {
     "data": {
      "image/png": "[encoded data removed]",
      "text/plain": [
       "<Figure size 432x288 with 2 Axes>"
      ]
     },
     "metadata": {
      "needs_background": "light"
     },
     "output_type": "display_data"
    }
   ],
   "source": [
    "y_pred = model.predict(X_test2)\n",
    "Score = f1_score(y_test2,y_pred)\n",
    "print(\"F1 score : ->\",Score)\n",
    "print(f\"\\nClassification Report for KNN : \\n\\n{classification_report(y_test2, y_pred)}\")\n",
    "print(\"\\nConfusion Matrix  :\\n\",confusion_matrix(y_test2,y_pred))\n",
    "plot_confusion_matrix(model ,X_test2 ,y_test2)\n",
    "plt.title(\"Confusion Matrix for KNN \")\n",
    "f1_test2.append(Score)"
   ]
  },
  {
   "cell_type": "markdown",
   "id": "60e9cabf",
   "metadata": {},
   "source": [
    "# XGboost"
   ]
  },
  {
   "cell_type": "code",
   "execution_count": 23,
   "id": "5702b1ea",
   "metadata": {},
   "outputs": [
    {
     "name": "stdout",
     "output_type": "stream",
     "text": [
      "1.0\n",
      "{'max_depth': 2}\n",
      "XGBClassifier(base_score=0.5, booster='gbtree', colsample_bylevel=1,\n",
      "              colsample_bynode=1, colsample_bytree=1, eval_metric='logloss',\n",
      "              gamma=0, gpu_id=-1, importance_type='gain',\n",
      "              interaction_constraints='', learning_rate=0.02, max_delta_step=0,\n",
      "              max_depth=2, min_child_weight=1, missing=nan,\n",
      "              monotone_constraints='()', n_estimators=600, n_jobs=12,\n",
      "              num_parallel_tree=1, random_state=0, reg_alpha=0, reg_lambda=1,\n",
      "              scale_pos_weight=1, subsample=1, tree_method='exact',\n",
      "              use_label_encoder=False, validate_parameters=1, verbosity=None)\n"
     ]
    },
    {
     "data": {
      "text/plain": [
       "XGBClassifier(base_score=0.5, booster='gbtree', colsample_bylevel=1,\n",
       "              colsample_bynode=1, colsample_bytree=1, eval_metric='logloss',\n",
       "              gamma=0, gpu_id=-1, importance_type='gain',\n",
       "              interaction_constraints='', learning_rate=0.02, max_delta_step=0,\n",
       "              max_depth=2, min_child_weight=1, missing=nan,\n",
       "              monotone_constraints='()', n_estimators=600, n_jobs=12,\n",
       "              num_parallel_tree=1, random_state=0, reg_alpha=0, reg_lambda=1,\n",
       "              scale_pos_weight=1, subsample=1, tree_method='exact',\n",
       "              use_label_encoder=False, validate_parameters=1, verbosity=None)"
      ]
     },
     "execution_count": 23,
     "metadata": {},
     "output_type": "execute_result"
    }
   ],
   "source": [
    "classifier = XGBClassifier(learning_rate=0.02, n_estimators=600, use_label_encoder=False,eval_metric='logloss')\n",
    "param = {\n",
    "    'max_depth': [2, 4, 5]\n",
    "    #'max_depth': [5]\n",
    "}\n",
    "grid = GridSearchCV(classifier, param, cv=5, scoring='f1_macro')\n",
    "grid.fit(X, y)\n",
    "print(grid.best_score_)\n",
    "print(grid.best_params_)\n",
    "print(grid.best_estimator_)\n",
    "#static\n",
    "model = grid.best_estimator_\n",
    "model.fit(X, y)"
   ]
  },
  {
   "cell_type": "code",
   "execution_count": 24,
   "id": "b17e326b",
   "metadata": {},
   "outputs": [],
   "source": [
    "algorithm.append('XGboost')"
   ]
  },
  {
   "cell_type": "code",
   "execution_count": 25,
   "id": "f7ba565d",
   "metadata": {},
   "outputs": [
    {
     "name": "stdout",
     "output_type": "stream",
     "text": [
      "F1 score : -> 0.9244916461598238\n",
      "\n",
      "Classification Report for KNN : \n",
      "\n",
      "              precision    recall  f1-score   support\n",
      "\n",
      "           0       0.91      0.94      0.92     11309\n",
      "           1       0.94      0.91      0.92     11726\n",
      "\n",
      "    accuracy                           0.92     23035\n",
      "   macro avg       0.92      0.92      0.92     23035\n",
      "weighted avg       0.92      0.92      0.92     23035\n",
      "\n",
      "\n",
      "Confusion Matrix  :\n",
      " [[10579   730]\n",
      " [ 1019 10707]]\n"
     ]
    },
    {
     "name": "stderr",
     "output_type": "stream",
     "text": [
      "C:\\ProgramData\\Anaconda3\\lib\\site-packages\\sklearn\\utils\\deprecation.py:87: FutureWarning: Function plot_confusion_matrix is deprecated; Function `plot_confusion_matrix` is deprecated in 1.0 and will be removed in 1.2. Use one of the class methods: ConfusionMatrixDisplay.from_predictions or ConfusionMatrixDisplay.from_estimator.\n",
      "  warnings.warn(msg, category=FutureWarning)\n"
     ]
    },
    {
     "data": {
      "image/png": "[encoded data removed]",
      "text/plain": [
       "<Figure size 432x288 with 2 Axes>"
      ]
     },
     "metadata": {
      "needs_background": "light"
     },
     "output_type": "display_data"
    }
   ],
   "source": [
    "y_pred=model.predict(X_test1)\n",
    "Score= f1_score(y_test1,y_pred)\n",
    "print(\"F1 score : ->\",Score)\n",
    "print(f\"\\nClassification Report for KNN : \\n\\n{classification_report(y_test1, y_pred)}\")\n",
    "print(\"\\nConfusion Matrix  :\\n\",confusion_matrix(y_test1,y_pred))\n",
    "plot_confusion_matrix(model ,X_test1 ,y_test1)\n",
    "plt.title(\"Confusion Matrix for KNN \")\n",
    "f1_test1.append(Score)"
   ]
  },
  {
   "cell_type": "code",
   "execution_count": 26,
   "id": "54db7252",
   "metadata": {},
   "outputs": [
    {
     "name": "stdout",
     "output_type": "stream",
     "text": [
      "F1 score : -> 0.8032543713759159\n",
      "\n",
      "Classification Report for KNN : \n",
      "\n",
      "              precision    recall  f1-score   support\n",
      "\n",
      "           0       0.70      0.95      0.81      9711\n",
      "           1       0.95      0.70      0.80     12833\n",
      "\n",
      "    accuracy                           0.81     22544\n",
      "   macro avg       0.83      0.82      0.81     22544\n",
      "weighted avg       0.84      0.81      0.81     22544\n",
      "\n",
      "\n",
      "Confusion Matrix  :\n",
      " [[9232  479]\n",
      " [3898 8935]]\n"
     ]
    },
    {
     "name": "stderr",
     "output_type": "stream",
     "text": [
      "C:\\ProgramData\\Anaconda3\\lib\\site-packages\\sklearn\\utils\\deprecation.py:87: FutureWarning: Function plot_confusion_matrix is deprecated; Function `plot_confusion_matrix` is deprecated in 1.0 and will be removed in 1.2. Use one of the class methods: ConfusionMatrixDisplay.from_predictions or ConfusionMatrixDisplay.from_estimator.\n",
      "  warnings.warn(msg, category=FutureWarning)\n"
     ]
    },
    {
     "data": {
      "image/png": "[encoded data removed]",
      "text/plain": [
       "<Figure size 432x288 with 2 Axes>"
      ]
     },
     "metadata": {
      "needs_background": "light"
     },
     "output_type": "display_data"
    }
   ],
   "source": [
    "y_pred = model.predict(X_test2)\n",
    "Score = f1_score(y_test2,y_pred)\n",
    "print(\"F1 score : ->\",Score)\n",
    "print(f\"\\nClassification Report for KNN : \\n\\n{classification_report(y_test2, y_pred)}\")\n",
    "print(\"\\nConfusion Matrix  :\\n\",confusion_matrix(y_test2,y_pred))\n",
    "plot_confusion_matrix(model ,X_test2 ,y_test2)\n",
    "plt.title(\"Confusion Matrix for KNN \")\n",
    "f1_test2.append(Score)"
   ]
  },
  {
   "cell_type": "markdown",
   "id": "e93529d8",
   "metadata": {},
   "source": [
    "# Majority Voting"
   ]
  },
  {
   "cell_type": "code",
   "execution_count": 27,
   "id": "d5a548d5",
   "metadata": {},
   "outputs": [],
   "source": [
    "models = []\n",
    "models.append(('KNN', KNeighborsClassifier(n_neighbors=1)))\n",
    "models.append(('DT', DecisionTreeClassifier(max_depth=16)))\n",
    "models.append(('XGBoost', XGBClassifier(learning_rate=0.02, n_estimators=600, use_label_encoder=False, eval_metric='logloss', max_depth= 5)))"
   ]
  },
  {
   "cell_type": "code",
   "execution_count": 28,
   "id": "71fbb9ac",
   "metadata": {},
   "outputs": [
    {
     "data": {
      "text/plain": [
       "VotingClassifier(estimators=[('KNN', KNeighborsClassifier(n_neighbors=1)),\n",
       "                             ('DT', DecisionTreeClassifier(max_depth=16)),\n",
       "                             ('XGBoost',\n",
       "                              XGBClassifier(base_score=None, booster=None,\n",
       "                                            colsample_bylevel=None,\n",
       "                                            colsample_bynode=None,\n",
       "                                            colsample_bytree=None,\n",
       "                                            eval_metric='logloss', gamma=None,\n",
       "                                            gpu_id=None, importance_type='gain',\n",
       "                                            interaction_constraints=None,\n",
       "                                            learning_rate=0.02,\n",
       "                                            max_delta_step=None, max_depth=5,\n",
       "                                            min_child_weight=None, missing=nan,\n",
       "                                            monotone_constraints=None,\n",
       "                                            n_estimators=600, n_jobs=None,\n",
       "                                            num_parallel_tree=None,\n",
       "                                            random_state=None, reg_alpha=None,\n",
       "                                            reg_lambda=None,\n",
       "                                            scale_pos_weight=None,\n",
       "                                            subsample=None, tree_method=None,\n",
       "                                            use_label_encoder=False,\n",
       "                                            validate_parameters=None,\n",
       "                                            verbosity=None))],\n",
       "                 voting='soft')"
      ]
     },
     "execution_count": 28,
     "metadata": {},
     "output_type": "execute_result"
    }
   ],
   "source": [
    "model = VotingClassifier(estimators=models, voting='soft')\n",
    "model.fit(X,y)"
   ]
  },
  {
   "cell_type": "code",
   "execution_count": 29,
   "id": "9b38ba2c",
   "metadata": {},
   "outputs": [],
   "source": [
    "algorithm.append('Ensemble')"
   ]
  },
  {
   "cell_type": "code",
   "execution_count": 30,
   "id": "ea56119c",
   "metadata": {},
   "outputs": [
    {
     "name": "stdout",
     "output_type": "stream",
     "text": [
      "F1 score : -> 0.946736116945308\n",
      "\n",
      "Classification Report for Ensemble : \n",
      "\n",
      "              precision    recall  f1-score   support\n",
      "\n",
      "           0       0.96      0.93      0.94     11309\n",
      "           1       0.93      0.96      0.95     11726\n",
      "\n",
      "    accuracy                           0.94     23035\n",
      "   macro avg       0.95      0.94      0.94     23035\n",
      "weighted avg       0.95      0.94      0.94     23035\n",
      "\n",
      "\n",
      "Confusion Matrix  :\n",
      " [[10498   811]\n",
      " [  457 11269]]\n"
     ]
    },
    {
     "name": "stderr",
     "output_type": "stream",
     "text": [
      "C:\\ProgramData\\Anaconda3\\lib\\site-packages\\sklearn\\utils\\deprecation.py:87: FutureWarning: Function plot_confusion_matrix is deprecated; Function `plot_confusion_matrix` is deprecated in 1.0 and will be removed in 1.2. Use one of the class methods: ConfusionMatrixDisplay.from_predictions or ConfusionMatrixDisplay.from_estimator.\n",
      "  warnings.warn(msg, category=FutureWarning)\n"
     ]
    },
    {
     "data": {
      "image/png": "[encoded data removed]",
      "text/plain": [
       "<Figure size 432x288 with 2 Axes>"
      ]
     },
     "metadata": {
      "needs_background": "light"
     },
     "output_type": "display_data"
    }
   ],
   "source": [
    "y_pred=model.predict(X_test1)\n",
    "Score= f1_score(y_test1,y_pred)\n",
    "print(\"F1 score : ->\",Score)\n",
    "print(f\"\\nClassification Report for Ensemble : \\n\\n{classification_report(y_test1, y_pred)}\")\n",
    "print(\"\\nConfusion Matrix  :\\n\",confusion_matrix(y_test1,y_pred))\n",
    "plot_confusion_matrix(model ,X_test1 ,y_test1)\n",
    "plt.title(\"Confusion Matrix for Ensemble \")\n",
    "f1_test1.append(Score)"
   ]
  },
  {
   "cell_type": "code",
   "execution_count": 31,
   "id": "bc459515",
   "metadata": {},
   "outputs": [
    {
     "name": "stdout",
     "output_type": "stream",
     "text": [
      "F1 score : -> 0.867914979757085\n",
      "\n",
      "Classification Report for Ensemble : \n",
      "\n",
      "              precision    recall  f1-score   support\n",
      "\n",
      "           0       0.78      0.94      0.85      9711\n",
      "           1       0.95      0.80      0.87     12833\n",
      "\n",
      "    accuracy                           0.86     22544\n",
      "   macro avg       0.86      0.87      0.86     22544\n",
      "weighted avg       0.88      0.86      0.86     22544\n",
      "\n",
      "\n",
      "Confusion Matrix  :\n",
      " [[ 9122   589]\n",
      " [ 2543 10290]]\n"
     ]
    },
    {
     "name": "stderr",
     "output_type": "stream",
     "text": [
      "C:\\ProgramData\\Anaconda3\\lib\\site-packages\\sklearn\\utils\\deprecation.py:87: FutureWarning: Function plot_confusion_matrix is deprecated; Function `plot_confusion_matrix` is deprecated in 1.0 and will be removed in 1.2. Use one of the class methods: ConfusionMatrixDisplay.from_predictions or ConfusionMatrixDisplay.from_estimator.\n",
      "  warnings.warn(msg, category=FutureWarning)\n"
     ]
    },
    {
     "data": {
      "image/png": "[encoded data removed]",
      "text/plain": [
       "<Figure size 432x288 with 2 Axes>"
      ]
     },
     "metadata": {
      "needs_background": "light"
     },
     "output_type": "display_data"
    }
   ],
   "source": [
    "y_pred = model.predict(X_test2)\n",
    "Score = f1_score(y_test2,y_pred)\n",
    "print(\"F1 score : ->\",Score)\n",
    "print(f\"\\nClassification Report for Ensemble : \\n\\n{classification_report(y_test2, y_pred)}\")\n",
    "print(\"\\nConfusion Matrix  :\\n\",confusion_matrix(y_test2,y_pred))\n",
    "plot_confusion_matrix(model ,X_test2 ,y_test2)\n",
    "plt.title(\"Confusion Matrix for Ensemble \")\n",
    "f1_test2.append(Score)"
   ]
  },
  {
   "cell_type": "markdown",
   "id": "59eb6e28",
   "metadata": {},
   "source": [
    "# Results"
   ]
  },
  {
   "cell_type": "code",
   "execution_count": 32,
   "id": "8de55c6c",
   "metadata": {},
   "outputs": [],
   "source": [
    "for i in range(0, len(algorithm)):\n",
    "    f1_test1[i] = round(f1_test1[i], 3)\n",
    "    f1_test2[i] = round(f1_test2[i], 3)"
   ]
  },
  {
   "cell_type": "code",
   "execution_count": 33,
   "id": "859b8b1d",
   "metadata": {},
   "outputs": [
    {
     "data": {
      "text/plain": [
       "[0.805, 0.745, 0.846, 0.791, 0.803, 0.868]"
      ]
     },
     "execution_count": 33,
     "metadata": {},
     "output_type": "execute_result"
    }
   ],
   "source": [
    "f1_test2"
   ]
  },
  {
   "cell_type": "code",
   "execution_count": 34,
   "id": "da5a9e6d",
   "metadata": {},
   "outputs": [
    {
     "data": {
      "image/png": "[encoded data removed]",
      "text/plain": [
       "<Figure size 432x288 with 1 Axes>"
      ]
     },
     "metadata": {
      "needs_background": "light"
     },
     "output_type": "display_data"
    }
   ],
   "source": [
    "x1 = algorithm\n",
    "y1 = [round(num, 3)*100 for num in f1_test1] \n",
    "plt.title(\"Models' F1 score with normal test\")\n",
    "plt.xlabel('Model Name')\n",
    "plt.ylabel(\"F1 score\")\n",
    "colors = sns.color_palette(\"bright\")\n",
    "plot = plt.bar(x1,y1,color=colors)\n",
    "for value in plot:\n",
    "    height = value.get_height()\n",
    "    height =float(f'{height:.3f}')\n",
    "    plt.text(value.get_x() + value.get_width()/2.,\n",
    "             1.002*height,'%s' % (height)+'%', ha='center', va='bottom')\n",
    "    \n",
    "\n",
    "plt.show()"
   ]
  },
  {
   "cell_type": "code",
   "execution_count": 35,
   "id": "183bac1d",
   "metadata": {},
   "outputs": [
    {
     "data": {
      "image/png": "[encoded data removed]",
      "text/plain": [
       "<Figure size 432x288 with 1 Axes>"
      ]
     },
     "metadata": {
      "needs_background": "light"
     },
     "output_type": "display_data"
    }
   ],
   "source": [
    "x1 = algorithm\n",
    "y2 = [round(num, 3)*100 for num in f1_test2] \n",
    "plt.title(\"Models' F1 score with specific test\")\n",
    "plt.xlabel('Model Name')\n",
    "plt.ylabel(\"F1 score\")\n",
    "colors = sns.color_palette(\"bright\")\n",
    "plot = plt.bar(x1,y2,color=colors)\n",
    "for value in plot:\n",
    "    height = value.get_height()\n",
    "    height =float(f'{height:.3f}')\n",
    "    plt.text(value.get_x() + value.get_width()/2.,\n",
    "             1.002*height,'%s' % (height)+'%', ha='center', va='bottom')\n",
    "    \n",
    "\n",
    "plt.show()"
   ]
  },
  {
   "cell_type": "code",
   "execution_count": 36,
   "id": "74ad4565",
   "metadata": {},
   "outputs": [
    {
     "data": {
      "text/plain": [
       "<matplotlib.legend.Legend at 0x24756470a90>"
      ]
     },
     "execution_count": 36,
     "metadata": {},
     "output_type": "execute_result"
    },
    {
     "data": {
      "image/png": "[encoded data removed]",
      "text/plain": [
       "<Figure size 432x288 with 1 Axes>"
      ]
     },
     "metadata": {
      "needs_background": "light"
     },
     "output_type": "display_data"
    }
   ],
   "source": [
    "fig, ax = plt.subplots()\n",
    "\n",
    "plotdata = pd.DataFrame(\n",
    "    {\"Normal Test\": y1,\"Specific Test\": y2}, \n",
    "    index=algorithm)\n",
    "# Plot a bar chart\n",
    "plotdata.plot(kind=\"bar\",ax=ax,color=colors)\n",
    "ax.legend([\"Normal Test\", \"Specific Test\"]);\n",
    "\n",
    "plt.legend(bbox_to_anchor=(1.0, 1.0))\n"
   ]
  },
  {
   "cell_type": "code",
   "execution_count": 37,
   "id": "3c6e5d40",
   "metadata": {},
   "outputs": [
    {
     "name": "stdout",
     "output_type": "stream",
     "text": [
      "['DT', 'RF', 'KNN', 'LR', 'XGboost', 'Ensemble']\n",
      "[92.30000000000001, 91.8, 85.3, 90.9, 92.4, 94.69999999999999]\n",
      "[80.5, 74.5, 84.6, 79.10000000000001, 80.30000000000001, 86.8]\n"
     ]
    }
   ],
   "source": [
    "print(algorithm)\n",
    "print(y1)\n",
    "print(y2)"
   ]
  },
  {
   "cell_type": "code",
   "execution_count": null,
   "id": "a53bef66",
   "metadata": {},
   "outputs": [],
   "source": []
  }
 ],
 "metadata": {
  "kernelspec": {
   "display_name": "Python 3 (ipykernel)",
   "language": "python",
   "name": "python3"
  },
  "language_info": {
   "codemirror_mode": {
    "name": "ipython",
    "version": 3
   },
   "file_extension": ".py",
   "mimetype": "text/x-python",
   "name": "python",
   "nbconvert_exporter": "python",
   "pygments_lexer": "ipython3",
   "version": "3.8.12"
  }
 },
 "nbformat": 4,
 "nbformat_minor": 5
}
