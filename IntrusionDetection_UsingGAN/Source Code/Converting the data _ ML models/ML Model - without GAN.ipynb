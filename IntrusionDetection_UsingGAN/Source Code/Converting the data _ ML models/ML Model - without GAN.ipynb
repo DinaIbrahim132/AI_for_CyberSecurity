{
 "cells": [
  {
   "cell_type": "code",
   "execution_count": 1,
   "id": "9d9fd76e",
   "metadata": {},
   "outputs": [],
   "source": [
    "#Required Libraries\n",
    "# !pip install graphviz\n",
    "# !pip install seaborn\n",
    "# !pip install pydotplus\n",
    "import numpy as np\n",
    "import matplotlib.pyplot as plt\n",
    "from matplotlib.colors import ListedColormap\n",
    "import sklearn\n",
    "from sklearn.svm import SVC\n",
    "from sklearn import  datasets\n",
    "from sklearn import metrics\n",
    "from sklearn.metrics import classification_report,confusion_matrix,plot_confusion_matrix,accuracy_score\n",
    "from mlxtend.plotting import plot_decision_regions\n",
    "from sklearn.linear_model import LogisticRegression\n",
    "from sklearn.multiclass import OneVsRestClassifier\n",
    "from sklearn.tree import DecisionTreeClassifier \n",
    "from sklearn.tree import export_graphviz \n",
    "import seaborn as sns\n",
    "from IPython.display import Image  \n",
    "import pydotplus\n",
    "from sklearn.naive_bayes import GaussianNB\n",
    "from scipy.stats import norm\n",
    "import pandas\n",
    "from sklearn.model_selection import train_test_split\n",
    "from sklearn import preprocessing\n",
    "from sklearn.ensemble import RandomForestClassifier\n",
    "from sklearn.ensemble import AdaBoostClassifier\n",
    "from sklearn.naive_bayes import MultinomialNB\n",
    "import pandas\n",
    "from sklearn.utils import shuffle\n",
    "from sklearn import svm\n",
    "import xgboost as xgb\n",
    "import imblearn\n",
    "from collections import Counter\n",
    "from imblearn.over_sampling import SMOTE\n",
    "from sklearn.neighbors import KNeighborsRegressor\n",
    "from sklearn.ensemble import VotingClassifier\n",
    "from sklearn.metrics import accuracy_score\n",
    "from sklearn import preprocessing\n",
    "from xgboost import XGBClassifier\n",
    "import pandas as pd\n",
    "from sklearn.ensemble import RandomForestClassifier\n",
    "from sklearn.datasets import make_classification\n",
    "from sklearn import preprocessing\n",
    "from sklearn.preprocessing import OneHotEncoder\n",
    "from sklearn.preprocessing import LabelEncoder\n",
    "from sklearn.discriminant_analysis import LinearDiscriminantAnalysis as LDA\n",
    "from sklearn.preprocessing import Normalizer\n",
    "from sklearn.preprocessing import MinMaxScaler\n",
    "from sklearn.preprocessing import StandardScaler\n",
    "from sklearn.preprocessing import RobustScaler\n",
    "from sklearn.metrics import f1_score\n",
    "from pandas.api.types import CategoricalDtype \n",
    "from sklearn.neighbors import KNeighborsClassifier\n",
    "from sklearn.model_selection import learning_curve,GridSearchCV\n"
   ]
  },
  {
   "cell_type": "code",
   "execution_count": 2,
   "id": "9d64e1b2",
   "metadata": {},
   "outputs": [],
   "source": [
    "np.random.seed(50)\n",
    "df = pandas.read_csv('Train.csv')\n",
    "testing1= pandas.read_csv('Val.csv')\n",
    "testing2= pandas.read_csv('Test.csv')"
   ]
  },
  {
   "cell_type": "code",
   "execution_count": 3,
   "id": "23fa5971",
   "metadata": {},
   "outputs": [],
   "source": [
    "algorithm=[]\n",
    "f1_test1=[]\n",
    "f1_test2=[]"
   ]
  },
  {
   "cell_type": "code",
   "execution_count": 4,
   "id": "ab27257e",
   "metadata": {},
   "outputs": [],
   "source": [
    "X = df\n",
    "y = X.attack\n",
    "X = X.drop(['attack'],axis=1)"
   ]
  },
  {
   "cell_type": "code",
   "execution_count": 5,
   "id": "5658cd28",
   "metadata": {},
   "outputs": [],
   "source": [
    "X_test1 = testing1\n",
    "y_test1 = X_test1.attack\n",
    "X_test1 = X_test1.drop(['attack'],axis=1)"
   ]
  },
  {
   "cell_type": "code",
   "execution_count": 6,
   "id": "11fc39ee",
   "metadata": {},
   "outputs": [],
   "source": [
    "X_test2 = testing2\n",
    "y_test2 = X_test2.attack\n",
    "X_test2 = X_test2.drop(['attack'],axis=1)"
   ]
  },
  {
   "cell_type": "markdown",
   "id": "ff94441b",
   "metadata": {},
   "source": [
    "# DT"
   ]
  },
  {
   "cell_type": "code",
   "execution_count": 7,
   "id": "ecd0fb1b",
   "metadata": {},
   "outputs": [
    {
     "data": {
      "text/plain": [
       "DecisionTreeClassifier(max_depth=18)"
      ]
     },
     "execution_count": 7,
     "metadata": {},
     "output_type": "execute_result"
    }
   ],
   "source": [
    "dt_model = DecisionTreeClassifier(max_depth=18)\n",
    "dt_model.fit(X, y)"
   ]
  },
  {
   "cell_type": "code",
   "execution_count": 8,
   "id": "169326c5",
   "metadata": {},
   "outputs": [
    {
     "name": "stdout",
     "output_type": "stream",
     "text": [
      "0.998762332665558\n",
      "{'max_depth': 16}\n",
      "DecisionTreeClassifier(max_depth=16)\n"
     ]
    },
    {
     "data": {
      "text/plain": [
       "DecisionTreeClassifier(max_depth=16)"
      ]
     },
     "execution_count": 8,
     "metadata": {},
     "output_type": "execute_result"
    }
   ],
   "source": [
    "classifier = DecisionTreeClassifier()\n",
    "depth_range = list(range(5, 20))\n",
    "#param_grid_dt = dict(max_depth=depth_range)\n",
    "#param = {'max_depth': depth_range}\n",
    "param = {'max_depth': [16]}\n",
    "grid = GridSearchCV(classifier, param, cv=10, scoring='f1_macro')\n",
    "grid.fit(X, y)\n",
    "print(grid.best_score_)\n",
    "print(grid.best_params_)\n",
    "print(grid.best_estimator_)\n",
    "#static\n",
    "model = grid.best_estimator_\n",
    "model.fit(X, y)"
   ]
  },
  {
   "cell_type": "code",
   "execution_count": 9,
   "id": "b8a7ef4a",
   "metadata": {},
   "outputs": [],
   "source": [
    "algorithm.append('DT')"
   ]
  },
  {
   "cell_type": "code",
   "execution_count": 10,
   "id": "dc6b6322",
   "metadata": {},
   "outputs": [
    {
     "name": "stdout",
     "output_type": "stream",
     "text": [
      "F1 score : -> 0.99906207366985\n",
      "\n",
      "Classification Report for DT : \n",
      "\n",
      "              precision    recall  f1-score   support\n",
      "\n",
      "           0       1.00      1.00      1.00     11309\n",
      "           1       1.00      1.00      1.00     11726\n",
      "\n",
      "    accuracy                           1.00     23035\n",
      "   macro avg       1.00      1.00      1.00     23035\n",
      "weighted avg       1.00      1.00      1.00     23035\n",
      "\n",
      "\n",
      "Confusion Matrix  :\n",
      " [[11296    13]\n",
      " [    9 11717]]\n"
     ]
    },
    {
     "name": "stderr",
     "output_type": "stream",
     "text": [
      "C:\\ProgramData\\Anaconda3\\lib\\site-packages\\sklearn\\utils\\deprecation.py:87: FutureWarning: Function plot_confusion_matrix is deprecated; Function `plot_confusion_matrix` is deprecated in 1.0 and will be removed in 1.2. Use one of the class methods: ConfusionMatrixDisplay.from_predictions or ConfusionMatrixDisplay.from_estimator.\n",
      "  warnings.warn(msg, category=FutureWarning)\n"
     ]
    },
    {
     "data": {
      "image/png": "[encoded data removed]",
      "text/plain": [
       "<Figure size 432x288 with 2 Axes>"
      ]
     },
     "metadata": {
      "needs_background": "light"
     },
     "output_type": "display_data"
    }
   ],
   "source": [
    "y_pred=model.predict(X_test1)\n",
    "Score= f1_score(y_test1,y_pred)\n",
    "print(\"F1 score : ->\",Score)\n",
    "print(f\"\\nClassification Report for DT : \\n\\n{classification_report(y_test1, y_pred)}\")\n",
    "print(\"\\nConfusion Matrix  :\\n\",confusion_matrix(y_test1,y_pred))\n",
    "plot_confusion_matrix(model ,X_test1 ,y_test1)\n",
    "plt.title(\"Confusion Matrix for DT \")\n",
    "f1_test1.append(Score)"
   ]
  },
  {
   "cell_type": "code",
   "execution_count": 11,
   "id": "6da124ab",
   "metadata": {},
   "outputs": [
    {
     "name": "stdout",
     "output_type": "stream",
     "text": [
      "F1 score : -> 0.8782861896838602\n",
      "\n",
      "Classification Report for DT : \n",
      "\n",
      "              precision    recall  f1-score   support\n",
      "\n",
      "           0       0.80      0.93      0.86      9711\n",
      "           1       0.94      0.82      0.88     12833\n",
      "\n",
      "    accuracy                           0.87     22544\n",
      "   macro avg       0.87      0.88      0.87     22544\n",
      "weighted avg       0.88      0.87      0.87     22544\n",
      "\n",
      "\n",
      "Confusion Matrix  :\n",
      " [[ 9061   650]\n",
      " [ 2276 10557]]\n"
     ]
    },
    {
     "name": "stderr",
     "output_type": "stream",
     "text": [
      "C:\\ProgramData\\Anaconda3\\lib\\site-packages\\sklearn\\utils\\deprecation.py:87: FutureWarning: Function plot_confusion_matrix is deprecated; Function `plot_confusion_matrix` is deprecated in 1.0 and will be removed in 1.2. Use one of the class methods: ConfusionMatrixDisplay.from_predictions or ConfusionMatrixDisplay.from_estimator.\n",
      "  warnings.warn(msg, category=FutureWarning)\n"
     ]
    },
    {
     "data": {
      "image/png": "[encoded data removed]",
      "text/plain": [
       "<Figure size 432x288 with 2 Axes>"
      ]
     },
     "metadata": {
      "needs_background": "light"
     },
     "output_type": "display_data"
    }
   ],
   "source": [
    "y_pred = model.predict(X_test2)\n",
    "Score = f1_score(y_test2,y_pred)\n",
    "print(\"F1 score : ->\",Score)\n",
    "print(f\"\\nClassification Report for DT : \\n\\n{classification_report(y_test2, y_pred)}\")\n",
    "print(\"\\nConfusion Matrix  :\\n\",confusion_matrix(y_test2,y_pred))\n",
    "plot_confusion_matrix(model ,X_test2 ,y_test2)\n",
    "plt.title(\"Confusion Matrix for DT \")\n",
    "f1_test2.append(Score)"
   ]
  },
  {
   "cell_type": "markdown",
   "id": "7f7d3f8d",
   "metadata": {},
   "source": [
    "# Random Forest"
   ]
  },
  {
   "cell_type": "code",
   "execution_count": 12,
   "id": "343455cd",
   "metadata": {},
   "outputs": [
    {
     "name": "stdout",
     "output_type": "stream",
     "text": [
      "0.9994137317105201\n",
      "{'n_estimators': 80}\n",
      "RandomForestClassifier(n_estimators=80)\n"
     ]
    },
    {
     "data": {
      "text/plain": [
       "RandomForestClassifier(n_estimators=80)"
      ]
     },
     "execution_count": 12,
     "metadata": {},
     "output_type": "execute_result"
    }
   ],
   "source": [
    "classifier = RandomForestClassifier()\n",
    "#param_grid_dt = dict(max_depth=depth_range)\n",
    "param = {\n",
    "    #'n_estimators': [10, 30, 50, 80, 100, 200]\n",
    "    'n_estimators': [80]\n",
    "}\n",
    "grid = GridSearchCV(classifier, param, cv=10, scoring='f1_macro')\n",
    "grid.fit(X, y)\n",
    "print(grid.best_score_)\n",
    "print(grid.best_params_)\n",
    "print(grid.best_estimator_)\n",
    "#static\n",
    "model = grid.best_estimator_\n",
    "model.fit(X, y)"
   ]
  },
  {
   "cell_type": "code",
   "execution_count": 13,
   "id": "1973a512",
   "metadata": {},
   "outputs": [],
   "source": [
    "algorithm.append('RF')"
   ]
  },
  {
   "cell_type": "code",
   "execution_count": 14,
   "id": "64f78ba5",
   "metadata": {},
   "outputs": [
    {
     "name": "stdout",
     "output_type": "stream",
     "text": [
      "F1 score : -> 0.9994029850746269\n",
      "\n",
      "Classification Report for RF : \n",
      "\n",
      "              precision    recall  f1-score   support\n",
      "\n",
      "           0       1.00      1.00      1.00     11309\n",
      "           1       1.00      1.00      1.00     11726\n",
      "\n",
      "    accuracy                           1.00     23035\n",
      "   macro avg       1.00      1.00      1.00     23035\n",
      "weighted avg       1.00      1.00      1.00     23035\n",
      "\n",
      "\n",
      "Confusion Matrix  :\n",
      " [[11303     6]\n",
      " [    8 11718]]\n"
     ]
    },
    {
     "name": "stderr",
     "output_type": "stream",
     "text": [
      "C:\\ProgramData\\Anaconda3\\lib\\site-packages\\sklearn\\utils\\deprecation.py:87: FutureWarning: Function plot_confusion_matrix is deprecated; Function `plot_confusion_matrix` is deprecated in 1.0 and will be removed in 1.2. Use one of the class methods: ConfusionMatrixDisplay.from_predictions or ConfusionMatrixDisplay.from_estimator.\n",
      "  warnings.warn(msg, category=FutureWarning)\n"
     ]
    },
    {
     "data": {
      "image/png": "[encoded data removed]",
      "text/plain": [
       "<Figure size 432x288 with 2 Axes>"
      ]
     },
     "metadata": {
      "needs_background": "light"
     },
     "output_type": "display_data"
    }
   ],
   "source": [
    "y_pred=model.predict(X_test1)\n",
    "Score= f1_score(y_test1,y_pred)\n",
    "print(\"F1 score : ->\",Score)\n",
    "print(f\"\\nClassification Report for RF : \\n\\n{classification_report(y_test1, y_pred)}\")\n",
    "print(\"\\nConfusion Matrix  :\\n\",confusion_matrix(y_test1,y_pred))\n",
    "plot_confusion_matrix(model ,X_test1 ,y_test1)\n",
    "plt.title(\"Confusion Matrix for RF \")\n",
    "f1_test1.append(Score)"
   ]
  },
  {
   "cell_type": "code",
   "execution_count": 15,
   "id": "b897ae78",
   "metadata": {},
   "outputs": [
    {
     "name": "stdout",
     "output_type": "stream",
     "text": [
      "F1 score : -> 0.8326566251910065\n",
      "\n",
      "Classification Report for RF : \n",
      "\n",
      "              precision    recall  f1-score   support\n",
      "\n",
      "           0       0.74      0.94      0.83      9711\n",
      "           1       0.95      0.74      0.83     12833\n",
      "\n",
      "    accuracy                           0.83     22544\n",
      "   macro avg       0.84      0.84      0.83     22544\n",
      "weighted avg       0.86      0.83      0.83     22544\n",
      "\n",
      "\n",
      "Confusion Matrix  :\n",
      " [[9175  536]\n",
      " [3297 9536]]\n"
     ]
    },
    {
     "name": "stderr",
     "output_type": "stream",
     "text": [
      "C:\\ProgramData\\Anaconda3\\lib\\site-packages\\sklearn\\utils\\deprecation.py:87: FutureWarning: Function plot_confusion_matrix is deprecated; Function `plot_confusion_matrix` is deprecated in 1.0 and will be removed in 1.2. Use one of the class methods: ConfusionMatrixDisplay.from_predictions or ConfusionMatrixDisplay.from_estimator.\n",
      "  warnings.warn(msg, category=FutureWarning)\n"
     ]
    },
    {
     "data": {
      "image/png": "[encoded data removed]",
      "text/plain": [
       "<Figure size 432x288 with 2 Axes>"
      ]
     },
     "metadata": {
      "needs_background": "light"
     },
     "output_type": "display_data"
    }
   ],
   "source": [
    "y_pred = model.predict(X_test2)\n",
    "Score = f1_score(y_test2,y_pred)\n",
    "print(\"F1 score : ->\",Score)\n",
    "print(f\"\\nClassification Report for RF : \\n\\n{classification_report(y_test2, y_pred)}\")\n",
    "print(\"\\nConfusion Matrix  :\\n\",confusion_matrix(y_test2,y_pred))\n",
    "plot_confusion_matrix(model ,X_test2 ,y_test2)\n",
    "plt.title(\"Confusion Matrix for RF \")\n",
    "f1_test2.append(Score)"
   ]
  },
  {
   "cell_type": "markdown",
   "id": "a65be486",
   "metadata": {},
   "source": [
    "# KNN"
   ]
  },
  {
   "cell_type": "code",
   "execution_count": 16,
   "id": "ed1abdc5",
   "metadata": {},
   "outputs": [
    {
     "name": "stdout",
     "output_type": "stream",
     "text": [
      "0.9988274612980772\n",
      "{'n_neighbors': 1}\n",
      "KNeighborsClassifier(n_neighbors=1)\n"
     ]
    },
    {
     "data": {
      "text/plain": [
       "KNeighborsClassifier(n_neighbors=1)"
      ]
     },
     "execution_count": 16,
     "metadata": {},
     "output_type": "execute_result"
    }
   ],
   "source": [
    "classifier = KNeighborsClassifier()\n",
    "#param_grid_dt = dict(max_depth=depth_range)\n",
    "param = {\n",
    "    #'n_neighbors': list(range(1, 7))\n",
    "    'n_neighbors': [1]\n",
    "}\n",
    "grid = GridSearchCV(classifier, param, cv=10, scoring='f1_macro')\n",
    "grid.fit(X, y)\n",
    "print(grid.best_score_)\n",
    "print(grid.best_params_)\n",
    "print(grid.best_estimator_)\n",
    "#static\n",
    "model = grid.best_estimator_\n",
    "model.fit(X, y)"
   ]
  },
  {
   "cell_type": "code",
   "execution_count": 17,
   "id": "f9d62fe2",
   "metadata": {},
   "outputs": [],
   "source": [
    "algorithm.append('KNN')"
   ]
  },
  {
   "cell_type": "code",
   "execution_count": 18,
   "id": "a732c78b",
   "metadata": {},
   "outputs": [
    {
     "name": "stdout",
     "output_type": "stream",
     "text": [
      "F1 score : -> 0.9991046685141761\n",
      "\n",
      "Classification Report for KNN : \n",
      "\n",
      "              precision    recall  f1-score   support\n",
      "\n",
      "           0       1.00      1.00      1.00     11309\n",
      "           1       1.00      1.00      1.00     11726\n",
      "\n",
      "    accuracy                           1.00     23035\n",
      "   macro avg       1.00      1.00      1.00     23035\n",
      "weighted avg       1.00      1.00      1.00     23035\n",
      "\n",
      "\n",
      "Confusion Matrix  :\n",
      " [[11297    12]\n",
      " [    9 11717]]\n"
     ]
    },
    {
     "name": "stderr",
     "output_type": "stream",
     "text": [
      "C:\\ProgramData\\Anaconda3\\lib\\site-packages\\sklearn\\utils\\deprecation.py:87: FutureWarning: Function plot_confusion_matrix is deprecated; Function `plot_confusion_matrix` is deprecated in 1.0 and will be removed in 1.2. Use one of the class methods: ConfusionMatrixDisplay.from_predictions or ConfusionMatrixDisplay.from_estimator.\n",
      "  warnings.warn(msg, category=FutureWarning)\n"
     ]
    },
    {
     "data": {
      "image/png": "[encoded data removed]",
      "text/plain": [
       "<Figure size 432x288 with 2 Axes>"
      ]
     },
     "metadata": {
      "needs_background": "light"
     },
     "output_type": "display_data"
    }
   ],
   "source": [
    "y_pred=model.predict(X_test1)\n",
    "Score= f1_score(y_test1,y_pred)\n",
    "print(\"F1 score : ->\",Score)\n",
    "print(f\"\\nClassification Report for KNN : \\n\\n{classification_report(y_test1, y_pred)}\")\n",
    "print(\"\\nConfusion Matrix  :\\n\",confusion_matrix(y_test1,y_pred))\n",
    "plot_confusion_matrix(model ,X_test1 ,y_test1)\n",
    "plt.title(\"Confusion Matrix for KNN \")\n",
    "f1_test1.append(Score)"
   ]
  },
  {
   "cell_type": "code",
   "execution_count": 19,
   "id": "8478279c",
   "metadata": {},
   "outputs": [
    {
     "name": "stdout",
     "output_type": "stream",
     "text": [
      "F1 score : -> 0.8950490351154698\n",
      "\n",
      "Classification Report for KNN : \n",
      "\n",
      "              precision    recall  f1-score   support\n",
      "\n",
      "           0       0.85      0.88      0.87      9711\n",
      "           1       0.91      0.88      0.90     12833\n",
      "\n",
      "    accuracy                           0.88     22544\n",
      "   macro avg       0.88      0.88      0.88     22544\n",
      "weighted avg       0.88      0.88      0.88     22544\n",
      "\n",
      "\n",
      "Confusion Matrix  :\n",
      " [[ 8573  1138]\n",
      " [ 1516 11317]]\n"
     ]
    },
    {
     "name": "stderr",
     "output_type": "stream",
     "text": [
      "C:\\ProgramData\\Anaconda3\\lib\\site-packages\\sklearn\\utils\\deprecation.py:87: FutureWarning: Function plot_confusion_matrix is deprecated; Function `plot_confusion_matrix` is deprecated in 1.0 and will be removed in 1.2. Use one of the class methods: ConfusionMatrixDisplay.from_predictions or ConfusionMatrixDisplay.from_estimator.\n",
      "  warnings.warn(msg, category=FutureWarning)\n"
     ]
    },
    {
     "data": {
      "image/png": "[encoded data removed]",
      "text/plain": [
       "<Figure size 432x288 with 2 Axes>"
      ]
     },
     "metadata": {
      "needs_background": "light"
     },
     "output_type": "display_data"
    }
   ],
   "source": [
    "y_pred = model.predict(X_test2)\n",
    "Score = f1_score(y_test2,y_pred)\n",
    "print(\"F1 score : ->\",Score)\n",
    "print(f\"\\nClassification Report for KNN : \\n\\n{classification_report(y_test2, y_pred)}\")\n",
    "print(\"\\nConfusion Matrix  :\\n\",confusion_matrix(y_test2,y_pred))\n",
    "plot_confusion_matrix(model ,X_test2 ,y_test2)\n",
    "plt.title(\"Confusion Matrix for KNN \")\n",
    "f1_test2.append(Score)"
   ]
  },
  {
   "cell_type": "markdown",
   "id": "feb67748",
   "metadata": {},
   "source": [
    "# Logistic Regression"
   ]
  },
  {
   "cell_type": "code",
   "execution_count": 20,
   "id": "793436d4",
   "metadata": {},
   "outputs": [
    {
     "name": "stderr",
     "output_type": "stream",
     "text": [
      "C:\\ProgramData\\Anaconda3\\lib\\site-packages\\sklearn\\linear_model\\_logistic.py:814: ConvergenceWarning: lbfgs failed to converge (status=1):\n",
      "STOP: TOTAL NO. of ITERATIONS REACHED LIMIT.\n",
      "\n",
      "Increase the number of iterations (max_iter) or scale the data as shown in:\n",
      "    https://scikit-learn.org/stable/modules/preprocessing.html\n",
      "Please also refer to the documentation for alternative solver options:\n",
      "    https://scikit-learn.org/stable/modules/linear_model.html#logistic-regression\n",
      "  n_iter_i = _check_optimize_result(\n",
      "C:\\ProgramData\\Anaconda3\\lib\\site-packages\\sklearn\\linear_model\\_logistic.py:814: ConvergenceWarning: lbfgs failed to converge (status=1):\n",
      "STOP: TOTAL NO. of ITERATIONS REACHED LIMIT.\n",
      "\n",
      "Increase the number of iterations (max_iter) or scale the data as shown in:\n",
      "    https://scikit-learn.org/stable/modules/preprocessing.html\n",
      "Please also refer to the documentation for alternative solver options:\n",
      "    https://scikit-learn.org/stable/modules/linear_model.html#logistic-regression\n",
      "  n_iter_i = _check_optimize_result(\n",
      "C:\\ProgramData\\Anaconda3\\lib\\site-packages\\sklearn\\linear_model\\_logistic.py:814: ConvergenceWarning: lbfgs failed to converge (status=1):\n",
      "STOP: TOTAL NO. of ITERATIONS REACHED LIMIT.\n",
      "\n",
      "Increase the number of iterations (max_iter) or scale the data as shown in:\n",
      "    https://scikit-learn.org/stable/modules/preprocessing.html\n",
      "Please also refer to the documentation for alternative solver options:\n",
      "    https://scikit-learn.org/stable/modules/linear_model.html#logistic-regression\n",
      "  n_iter_i = _check_optimize_result(\n",
      "C:\\ProgramData\\Anaconda3\\lib\\site-packages\\sklearn\\linear_model\\_logistic.py:814: ConvergenceWarning: lbfgs failed to converge (status=1):\n",
      "STOP: TOTAL NO. of ITERATIONS REACHED LIMIT.\n",
      "\n",
      "Increase the number of iterations (max_iter) or scale the data as shown in:\n",
      "    https://scikit-learn.org/stable/modules/preprocessing.html\n",
      "Please also refer to the documentation for alternative solver options:\n",
      "    https://scikit-learn.org/stable/modules/linear_model.html#logistic-regression\n",
      "  n_iter_i = _check_optimize_result(\n",
      "C:\\ProgramData\\Anaconda3\\lib\\site-packages\\sklearn\\linear_model\\_logistic.py:814: ConvergenceWarning: lbfgs failed to converge (status=1):\n",
      "STOP: TOTAL NO. of ITERATIONS REACHED LIMIT.\n",
      "\n",
      "Increase the number of iterations (max_iter) or scale the data as shown in:\n",
      "    https://scikit-learn.org/stable/modules/preprocessing.html\n",
      "Please also refer to the documentation for alternative solver options:\n",
      "    https://scikit-learn.org/stable/modules/linear_model.html#logistic-regression\n",
      "  n_iter_i = _check_optimize_result(\n",
      "C:\\ProgramData\\Anaconda3\\lib\\site-packages\\sklearn\\linear_model\\_logistic.py:814: ConvergenceWarning: lbfgs failed to converge (status=1):\n",
      "STOP: TOTAL NO. of ITERATIONS REACHED LIMIT.\n",
      "\n",
      "Increase the number of iterations (max_iter) or scale the data as shown in:\n",
      "    https://scikit-learn.org/stable/modules/preprocessing.html\n",
      "Please also refer to the documentation for alternative solver options:\n",
      "    https://scikit-learn.org/stable/modules/linear_model.html#logistic-regression\n",
      "  n_iter_i = _check_optimize_result(\n",
      "C:\\ProgramData\\Anaconda3\\lib\\site-packages\\sklearn\\linear_model\\_logistic.py:814: ConvergenceWarning: lbfgs failed to converge (status=1):\n",
      "STOP: TOTAL NO. of ITERATIONS REACHED LIMIT.\n",
      "\n",
      "Increase the number of iterations (max_iter) or scale the data as shown in:\n",
      "    https://scikit-learn.org/stable/modules/preprocessing.html\n",
      "Please also refer to the documentation for alternative solver options:\n",
      "    https://scikit-learn.org/stable/modules/linear_model.html#logistic-regression\n",
      "  n_iter_i = _check_optimize_result(\n",
      "C:\\ProgramData\\Anaconda3\\lib\\site-packages\\sklearn\\linear_model\\_logistic.py:814: ConvergenceWarning: lbfgs failed to converge (status=1):\n",
      "STOP: TOTAL NO. of ITERATIONS REACHED LIMIT.\n",
      "\n",
      "Increase the number of iterations (max_iter) or scale the data as shown in:\n",
      "    https://scikit-learn.org/stable/modules/preprocessing.html\n",
      "Please also refer to the documentation for alternative solver options:\n",
      "    https://scikit-learn.org/stable/modules/linear_model.html#logistic-regression\n",
      "  n_iter_i = _check_optimize_result(\n",
      "C:\\ProgramData\\Anaconda3\\lib\\site-packages\\sklearn\\linear_model\\_logistic.py:814: ConvergenceWarning: lbfgs failed to converge (status=1):\n",
      "STOP: TOTAL NO. of ITERATIONS REACHED LIMIT.\n",
      "\n",
      "Increase the number of iterations (max_iter) or scale the data as shown in:\n",
      "    https://scikit-learn.org/stable/modules/preprocessing.html\n",
      "Please also refer to the documentation for alternative solver options:\n",
      "    https://scikit-learn.org/stable/modules/linear_model.html#logistic-regression\n",
      "  n_iter_i = _check_optimize_result(\n",
      "C:\\ProgramData\\Anaconda3\\lib\\site-packages\\sklearn\\linear_model\\_logistic.py:814: ConvergenceWarning: lbfgs failed to converge (status=1):\n",
      "STOP: TOTAL NO. of ITERATIONS REACHED LIMIT.\n",
      "\n",
      "Increase the number of iterations (max_iter) or scale the data as shown in:\n",
      "    https://scikit-learn.org/stable/modules/preprocessing.html\n",
      "Please also refer to the documentation for alternative solver options:\n",
      "    https://scikit-learn.org/stable/modules/linear_model.html#logistic-regression\n",
      "  n_iter_i = _check_optimize_result(\n",
      "C:\\ProgramData\\Anaconda3\\lib\\site-packages\\sklearn\\linear_model\\_logistic.py:814: ConvergenceWarning: lbfgs failed to converge (status=1):\n",
      "STOP: TOTAL NO. of ITERATIONS REACHED LIMIT.\n",
      "\n",
      "Increase the number of iterations (max_iter) or scale the data as shown in:\n",
      "    https://scikit-learn.org/stable/modules/preprocessing.html\n",
      "Please also refer to the documentation for alternative solver options:\n",
      "    https://scikit-learn.org/stable/modules/linear_model.html#logistic-regression\n",
      "  n_iter_i = _check_optimize_result(\n"
     ]
    },
    {
     "name": "stdout",
     "output_type": "stream",
     "text": [
      "0.9653642760471637\n",
      "{'penalty': 'l2', 'solver': 'lbfgs'}\n",
      "LogisticRegression()\n"
     ]
    },
    {
     "name": "stderr",
     "output_type": "stream",
     "text": [
      "C:\\ProgramData\\Anaconda3\\lib\\site-packages\\sklearn\\linear_model\\_logistic.py:814: ConvergenceWarning: lbfgs failed to converge (status=1):\n",
      "STOP: TOTAL NO. of ITERATIONS REACHED LIMIT.\n",
      "\n",
      "Increase the number of iterations (max_iter) or scale the data as shown in:\n",
      "    https://scikit-learn.org/stable/modules/preprocessing.html\n",
      "Please also refer to the documentation for alternative solver options:\n",
      "    https://scikit-learn.org/stable/modules/linear_model.html#logistic-regression\n",
      "  n_iter_i = _check_optimize_result(\n"
     ]
    },
    {
     "data": {
      "text/plain": [
       "LogisticRegression()"
      ]
     },
     "execution_count": 20,
     "metadata": {},
     "output_type": "execute_result"
    }
   ],
   "source": [
    "from sklearn.preprocessing import PolynomialFeatures\n",
    "\n",
    "classifier = LogisticRegression()\n",
    "#param_grid_dt = dict(max_depth=depth_range)\n",
    "param = {\n",
    "    #'solver': ['lbfgs'],'penalty':['none', 'l1', 'l2', 'elasticnet']\n",
    "    'solver': ['lbfgs'],'penalty':['l2']\n",
    "}\n",
    "grid = GridSearchCV(classifier, param, cv=10, scoring='f1_macro')\n",
    "grid.fit(X, y)\n",
    "print(grid.best_score_)\n",
    "print(grid.best_params_)\n",
    "print(grid.best_estimator_)\n",
    "#static\n",
    "model = grid.best_estimator_\n",
    "model.fit(X, y)"
   ]
  },
  {
   "cell_type": "code",
   "execution_count": 21,
   "id": "287fce1e",
   "metadata": {},
   "outputs": [],
   "source": [
    "algorithm.append('LR')"
   ]
  },
  {
   "cell_type": "code",
   "execution_count": 22,
   "id": "5e9c7cda",
   "metadata": {},
   "outputs": [
    {
     "name": "stderr",
     "output_type": "stream",
     "text": [
      "C:\\ProgramData\\Anaconda3\\lib\\site-packages\\sklearn\\utils\\deprecation.py:87: FutureWarning: Function plot_confusion_matrix is deprecated; Function `plot_confusion_matrix` is deprecated in 1.0 and will be removed in 1.2. Use one of the class methods: ConfusionMatrixDisplay.from_predictions or ConfusionMatrixDisplay.from_estimator.\n",
      "  warnings.warn(msg, category=FutureWarning)\n"
     ]
    },
    {
     "name": "stdout",
     "output_type": "stream",
     "text": [
      "F1 score : -> 0.9658171172722576\n",
      "\n",
      "Classification Report for KNN : \n",
      "\n",
      "              precision    recall  f1-score   support\n",
      "\n",
      "           0       0.96      0.97      0.97     11309\n",
      "           1       0.98      0.96      0.97     11726\n",
      "\n",
      "    accuracy                           0.97     23035\n",
      "   macro avg       0.97      0.97      0.97     23035\n",
      "weighted avg       0.97      0.97      0.97     23035\n",
      "\n",
      "\n",
      "Confusion Matrix  :\n",
      " [[11024   285]\n",
      " [  509 11217]]\n"
     ]
    },
    {
     "data": {
      "image/png": "[encoded data removed]",
      "text/plain": [
       "<Figure size 432x288 with 2 Axes>"
      ]
     },
     "metadata": {
      "needs_background": "light"
     },
     "output_type": "display_data"
    }
   ],
   "source": [
    "y_pred=model.predict(X_test1)\n",
    "Score= f1_score(y_test1,y_pred)\n",
    "print(\"F1 score : ->\",Score)\n",
    "print(f\"\\nClassification Report for KNN : \\n\\n{classification_report(y_test1, y_pred)}\")\n",
    "print(\"\\nConfusion Matrix  :\\n\",confusion_matrix(y_test1,y_pred))\n",
    "plot_confusion_matrix(model ,X_test1 ,y_test1)\n",
    "plt.title(\"Confusion Matrix for KNN \")\n",
    "f1_test1.append(Score)"
   ]
  },
  {
   "cell_type": "code",
   "execution_count": 23,
   "id": "9705ba93",
   "metadata": {},
   "outputs": [
    {
     "name": "stdout",
     "output_type": "stream",
     "text": [
      "F1 score : -> 0.785909268165865\n",
      "\n",
      "Classification Report for KNN : \n",
      "\n",
      "              precision    recall  f1-score   support\n",
      "\n",
      "           0       0.69      0.88      0.78      9711\n",
      "           1       0.89      0.71      0.79     12833\n",
      "\n",
      "    accuracy                           0.78     22544\n",
      "   macro avg       0.79      0.79      0.78     22544\n",
      "weighted avg       0.80      0.78      0.78     22544\n",
      "\n",
      "\n",
      "Confusion Matrix  :\n",
      " [[8534 1177]\n",
      " [3764 9069]]\n"
     ]
    },
    {
     "name": "stderr",
     "output_type": "stream",
     "text": [
      "C:\\ProgramData\\Anaconda3\\lib\\site-packages\\sklearn\\utils\\deprecation.py:87: FutureWarning: Function plot_confusion_matrix is deprecated; Function `plot_confusion_matrix` is deprecated in 1.0 and will be removed in 1.2. Use one of the class methods: ConfusionMatrixDisplay.from_predictions or ConfusionMatrixDisplay.from_estimator.\n",
      "  warnings.warn(msg, category=FutureWarning)\n"
     ]
    },
    {
     "data": {
      "image/png": "[encoded data removed]",
      "text/plain": [
       "<Figure size 432x288 with 2 Axes>"
      ]
     },
     "metadata": {
      "needs_background": "light"
     },
     "output_type": "display_data"
    }
   ],
   "source": [
    "y_pred = model.predict(X_test2)\n",
    "Score = f1_score(y_test2,y_pred)\n",
    "print(\"F1 score : ->\",Score)\n",
    "print(f\"\\nClassification Report for KNN : \\n\\n{classification_report(y_test2, y_pred)}\")\n",
    "print(\"\\nConfusion Matrix  :\\n\",confusion_matrix(y_test2,y_pred))\n",
    "plot_confusion_matrix(model ,X_test2 ,y_test2)\n",
    "plt.title(\"Confusion Matrix for KNN \")\n",
    "f1_test2.append(Score)"
   ]
  },
  {
   "cell_type": "markdown",
   "id": "b208f227",
   "metadata": {},
   "source": [
    "# XGboost"
   ]
  },
  {
   "cell_type": "code",
   "execution_count": 24,
   "id": "76d35944",
   "metadata": {},
   "outputs": [
    {
     "name": "stdout",
     "output_type": "stream",
     "text": [
      "0.998990334204584\n",
      "{'max_depth': 5}\n",
      "XGBClassifier(base_score=0.5, booster='gbtree', colsample_bylevel=1,\n",
      "              colsample_bynode=1, colsample_bytree=1, eval_metric='logloss',\n",
      "              gamma=0, gpu_id=-1, importance_type='gain',\n",
      "              interaction_constraints='', learning_rate=0.02, max_delta_step=0,\n",
      "              max_depth=5, min_child_weight=1, missing=nan,\n",
      "              monotone_constraints='()', n_estimators=600, n_jobs=12,\n",
      "              num_parallel_tree=1, random_state=0, reg_alpha=0, reg_lambda=1,\n",
      "              scale_pos_weight=1, subsample=1, tree_method='exact',\n",
      "              use_label_encoder=False, validate_parameters=1, verbosity=None)\n"
     ]
    },
    {
     "data": {
      "text/plain": [
       "XGBClassifier(base_score=0.5, booster='gbtree', colsample_bylevel=1,\n",
       "              colsample_bynode=1, colsample_bytree=1, eval_metric='logloss',\n",
       "              gamma=0, gpu_id=-1, importance_type='gain',\n",
       "              interaction_constraints='', learning_rate=0.02, max_delta_step=0,\n",
       "              max_depth=5, min_child_weight=1, missing=nan,\n",
       "              monotone_constraints='()', n_estimators=600, n_jobs=12,\n",
       "              num_parallel_tree=1, random_state=0, reg_alpha=0, reg_lambda=1,\n",
       "              scale_pos_weight=1, subsample=1, tree_method='exact',\n",
       "              use_label_encoder=False, validate_parameters=1, verbosity=None)"
      ]
     },
     "execution_count": 24,
     "metadata": {},
     "output_type": "execute_result"
    }
   ],
   "source": [
    "classifier = XGBClassifier(learning_rate=0.02, n_estimators=600, use_label_encoder=False,eval_metric='logloss')\n",
    "param = {\n",
    "    #'max_depth': [2, 4, 5]\n",
    "    'max_depth': [5]\n",
    "}\n",
    "grid = GridSearchCV(classifier, param, cv=5, scoring='f1_macro')\n",
    "grid.fit(X, y)\n",
    "print(grid.best_score_)\n",
    "print(grid.best_params_)\n",
    "print(grid.best_estimator_)\n",
    "#static\n",
    "model = grid.best_estimator_\n",
    "model.fit(X, y)"
   ]
  },
  {
   "cell_type": "code",
   "execution_count": 25,
   "id": "9be837bd",
   "metadata": {},
   "outputs": [],
   "source": [
    "algorithm.append('XGboost')"
   ]
  },
  {
   "cell_type": "code",
   "execution_count": 26,
   "id": "9ae6573e",
   "metadata": {},
   "outputs": [
    {
     "name": "stdout",
     "output_type": "stream",
     "text": [
      "F1 score : -> 0.9992324093816631\n",
      "\n",
      "Classification Report for KNN : \n",
      "\n",
      "              precision    recall  f1-score   support\n",
      "\n",
      "           0       1.00      1.00      1.00     11309\n",
      "           1       1.00      1.00      1.00     11726\n",
      "\n",
      "    accuracy                           1.00     23035\n",
      "   macro avg       1.00      1.00      1.00     23035\n",
      "weighted avg       1.00      1.00      1.00     23035\n",
      "\n",
      "\n",
      "Confusion Matrix  :\n",
      " [[11301     8]\n",
      " [   10 11716]]\n"
     ]
    },
    {
     "name": "stderr",
     "output_type": "stream",
     "text": [
      "C:\\ProgramData\\Anaconda3\\lib\\site-packages\\sklearn\\utils\\deprecation.py:87: FutureWarning: Function plot_confusion_matrix is deprecated; Function `plot_confusion_matrix` is deprecated in 1.0 and will be removed in 1.2. Use one of the class methods: ConfusionMatrixDisplay.from_predictions or ConfusionMatrixDisplay.from_estimator.\n",
      "  warnings.warn(msg, category=FutureWarning)\n"
     ]
    },
    {
     "data": {
      "image/png": "[encoded data removed]",
      "text/plain": [
       "<Figure size 432x288 with 2 Axes>"
      ]
     },
     "metadata": {
      "needs_background": "light"
     },
     "output_type": "display_data"
    }
   ],
   "source": [
    "y_pred=model.predict(X_test1)\n",
    "Score= f1_score(y_test1,y_pred)\n",
    "print(\"F1 score : ->\",Score)\n",
    "print(f\"\\nClassification Report for KNN : \\n\\n{classification_report(y_test1, y_pred)}\")\n",
    "print(\"\\nConfusion Matrix  :\\n\",confusion_matrix(y_test1,y_pred))\n",
    "plot_confusion_matrix(model ,X_test1 ,y_test1)\n",
    "plt.title(\"Confusion Matrix for KNN \")\n",
    "f1_test1.append(Score)"
   ]
  },
  {
   "cell_type": "code",
   "execution_count": 27,
   "id": "82b41426",
   "metadata": {},
   "outputs": [
    {
     "name": "stdout",
     "output_type": "stream",
     "text": [
      "F1 score : -> 0.8466119982736298\n",
      "\n",
      "Classification Report for KNN : \n",
      "\n",
      "              precision    recall  f1-score   support\n",
      "\n",
      "           0       0.75      0.95      0.84      9711\n",
      "           1       0.95      0.76      0.85     12833\n",
      "\n",
      "    accuracy                           0.84     22544\n",
      "   macro avg       0.85      0.85      0.84     22544\n",
      "weighted avg       0.86      0.84      0.84     22544\n",
      "\n",
      "\n",
      "Confusion Matrix  :\n",
      " [[9182  529]\n",
      " [3025 9808]]\n"
     ]
    },
    {
     "name": "stderr",
     "output_type": "stream",
     "text": [
      "C:\\ProgramData\\Anaconda3\\lib\\site-packages\\sklearn\\utils\\deprecation.py:87: FutureWarning: Function plot_confusion_matrix is deprecated; Function `plot_confusion_matrix` is deprecated in 1.0 and will be removed in 1.2. Use one of the class methods: ConfusionMatrixDisplay.from_predictions or ConfusionMatrixDisplay.from_estimator.\n",
      "  warnings.warn(msg, category=FutureWarning)\n"
     ]
    },
    {
     "data": {
      "image/png": "[encoded data removed]",
      "text/plain": [
       "<Figure size 432x288 with 2 Axes>"
      ]
     },
     "metadata": {
      "needs_background": "light"
     },
     "output_type": "display_data"
    }
   ],
   "source": [
    "y_pred = model.predict(X_test2)\n",
    "Score = f1_score(y_test2,y_pred)\n",
    "print(\"F1 score : ->\",Score)\n",
    "print(f\"\\nClassification Report for KNN : \\n\\n{classification_report(y_test2, y_pred)}\")\n",
    "print(\"\\nConfusion Matrix  :\\n\",confusion_matrix(y_test2,y_pred))\n",
    "plot_confusion_matrix(model ,X_test2 ,y_test2)\n",
    "plt.title(\"Confusion Matrix for KNN \")\n",
    "f1_test2.append(Score)"
   ]
  },
  {
   "cell_type": "markdown",
   "id": "3a387ae1",
   "metadata": {},
   "source": [
    "# Majority Voting"
   ]
  },
  {
   "cell_type": "code",
   "execution_count": 28,
   "id": "316607da",
   "metadata": {},
   "outputs": [],
   "source": [
    "models = []\n",
    "models.append(('KNN', KNeighborsClassifier(n_neighbors=1)))\n",
    "models.append(('DT', DecisionTreeClassifier(max_depth=16)))\n",
    "models.append(('XGBoost', XGBClassifier(learning_rate=0.02, n_estimators=600, use_label_encoder=False, eval_metric='logloss', max_depth= 5)))"
   ]
  },
  {
   "cell_type": "code",
   "execution_count": 29,
   "id": "4a4c0cfe",
   "metadata": {},
   "outputs": [
    {
     "data": {
      "text/plain": [
       "VotingClassifier(estimators=[('KNN', KNeighborsClassifier(n_neighbors=1)),\n",
       "                             ('DT', DecisionTreeClassifier(max_depth=16)),\n",
       "                             ('XGBoost',\n",
       "                              XGBClassifier(base_score=None, booster=None,\n",
       "                                            colsample_bylevel=None,\n",
       "                                            colsample_bynode=None,\n",
       "                                            colsample_bytree=None,\n",
       "                                            eval_metric='logloss', gamma=None,\n",
       "                                            gpu_id=None, importance_type='gain',\n",
       "                                            interaction_constraints=None,\n",
       "                                            learning_rate=0.02,\n",
       "                                            max_delta_step=None, max_depth=5,\n",
       "                                            min_child_weight=None, missing=nan,\n",
       "                                            monotone_constraints=None,\n",
       "                                            n_estimators=600, n_jobs=None,\n",
       "                                            num_parallel_tree=None,\n",
       "                                            random_state=None, reg_alpha=None,\n",
       "                                            reg_lambda=None,\n",
       "                                            scale_pos_weight=None,\n",
       "                                            subsample=None, tree_method=None,\n",
       "                                            use_label_encoder=False,\n",
       "                                            validate_parameters=None,\n",
       "                                            verbosity=None))],\n",
       "                 voting='soft')"
      ]
     },
     "execution_count": 29,
     "metadata": {},
     "output_type": "execute_result"
    }
   ],
   "source": [
    "model = VotingClassifier(estimators=models, voting='soft')\n",
    "model.fit(X,y)"
   ]
  },
  {
   "cell_type": "code",
   "execution_count": 30,
   "id": "8c2aa52f",
   "metadata": {},
   "outputs": [],
   "source": [
    "algorithm.append('Ensemble')"
   ]
  },
  {
   "cell_type": "code",
   "execution_count": 31,
   "id": "7485096f",
   "metadata": {},
   "outputs": [
    {
     "name": "stdout",
     "output_type": "stream",
     "text": [
      "F1 score : -> 0.9995309768473116\n",
      "\n",
      "Classification Report for Ensemble : \n",
      "\n",
      "              precision    recall  f1-score   support\n",
      "\n",
      "           0       1.00      1.00      1.00     11309\n",
      "           1       1.00      1.00      1.00     11726\n",
      "\n",
      "    accuracy                           1.00     23035\n",
      "   macro avg       1.00      1.00      1.00     23035\n",
      "weighted avg       1.00      1.00      1.00     23035\n",
      "\n",
      "\n",
      "Confusion Matrix  :\n",
      " [[11303     6]\n",
      " [    5 11721]]\n"
     ]
    },
    {
     "name": "stderr",
     "output_type": "stream",
     "text": [
      "C:\\ProgramData\\Anaconda3\\lib\\site-packages\\sklearn\\utils\\deprecation.py:87: FutureWarning: Function plot_confusion_matrix is deprecated; Function `plot_confusion_matrix` is deprecated in 1.0 and will be removed in 1.2. Use one of the class methods: ConfusionMatrixDisplay.from_predictions or ConfusionMatrixDisplay.from_estimator.\n",
      "  warnings.warn(msg, category=FutureWarning)\n"
     ]
    },
    {
     "data": {
      "image/png": "[encoded data removed]",
      "text/plain": [
       "<Figure size 432x288 with 2 Axes>"
      ]
     },
     "metadata": {
      "needs_background": "light"
     },
     "output_type": "display_data"
    }
   ],
   "source": [
    "y_pred=model.predict(X_test1)\n",
    "Score= f1_score(y_test1,y_pred)\n",
    "print(\"F1 score : ->\",Score)\n",
    "print(f\"\\nClassification Report for Ensemble : \\n\\n{classification_report(y_test1, y_pred)}\")\n",
    "print(\"\\nConfusion Matrix  :\\n\",confusion_matrix(y_test1,y_pred))\n",
    "plot_confusion_matrix(model ,X_test1 ,y_test1)\n",
    "plt.title(\"Confusion Matrix for Ensemble \")\n",
    "f1_test1.append(Score)"
   ]
  },
  {
   "cell_type": "code",
   "execution_count": 32,
   "id": "354ed802",
   "metadata": {},
   "outputs": [
    {
     "name": "stdout",
     "output_type": "stream",
     "text": [
      "F1 score : -> 0.8862602365787079\n",
      "\n",
      "Classification Report for Ensemble : \n",
      "\n",
      "              precision    recall  f1-score   support\n",
      "\n",
      "           0       0.81      0.94      0.87      9711\n",
      "           1       0.94      0.83      0.89     12833\n",
      "\n",
      "    accuracy                           0.88     22544\n",
      "   macro avg       0.88      0.88      0.88     22544\n",
      "weighted avg       0.89      0.88      0.88     22544\n",
      "\n",
      "\n",
      "Confusion Matrix  :\n",
      " [[ 9080   631]\n",
      " [ 2119 10714]]\n"
     ]
    },
    {
     "name": "stderr",
     "output_type": "stream",
     "text": [
      "C:\\ProgramData\\Anaconda3\\lib\\site-packages\\sklearn\\utils\\deprecation.py:87: FutureWarning: Function plot_confusion_matrix is deprecated; Function `plot_confusion_matrix` is deprecated in 1.0 and will be removed in 1.2. Use one of the class methods: ConfusionMatrixDisplay.from_predictions or ConfusionMatrixDisplay.from_estimator.\n",
      "  warnings.warn(msg, category=FutureWarning)\n"
     ]
    },
    {
     "data": {
      "image/png": "[encoded data removed]",
      "text/plain": [
       "<Figure size 432x288 with 2 Axes>"
      ]
     },
     "metadata": {
      "needs_background": "light"
     },
     "output_type": "display_data"
    }
   ],
   "source": [
    "y_pred = model.predict(X_test2)\n",
    "Score = f1_score(y_test2,y_pred)\n",
    "print(\"F1 score : ->\",Score)\n",
    "print(f\"\\nClassification Report for Ensemble : \\n\\n{classification_report(y_test2, y_pred)}\")\n",
    "print(\"\\nConfusion Matrix  :\\n\",confusion_matrix(y_test2,y_pred))\n",
    "plot_confusion_matrix(model ,X_test2 ,y_test2)\n",
    "plt.title(\"Confusion Matrix for Ensemble \")\n",
    "f1_test2.append(Score)"
   ]
  },
  {
   "cell_type": "markdown",
   "id": "aaa78ebe",
   "metadata": {},
   "source": [
    "# Results"
   ]
  },
  {
   "cell_type": "code",
   "execution_count": 33,
   "id": "6018c2c4",
   "metadata": {},
   "outputs": [],
   "source": [
    "for i in range(0, len(algorithm)):\n",
    "    f1_test1[i] = round(f1_test1[i], 3)\n",
    "    f1_test2[i] = round(f1_test2[i], 3)"
   ]
  },
  {
   "cell_type": "code",
   "execution_count": 34,
   "id": "daa04222",
   "metadata": {},
   "outputs": [
    {
     "data": {
      "text/plain": [
       "[0.878, 0.833, 0.895, 0.786, 0.847, 0.886]"
      ]
     },
     "execution_count": 34,
     "metadata": {},
     "output_type": "execute_result"
    }
   ],
   "source": [
    "f1_test2"
   ]
  },
  {
   "cell_type": "code",
   "execution_count": 41,
   "id": "2ee11348",
   "metadata": {},
   "outputs": [
    {
     "data": {
      "image/png": "[encoded data removed]",
      "text/plain": [
       "<Figure size 432x288 with 1 Axes>"
      ]
     },
     "metadata": {
      "needs_background": "light"
     },
     "output_type": "display_data"
    }
   ],
   "source": [
    "x1 = algorithm\n",
    "y1 = [round(num, 3)*100 for num in f1_test1] \n",
    "plt.title(\"Models' F1 score with normal test\")\n",
    "plt.xlabel('Model Name')\n",
    "plt.ylabel(\"F1 score\")\n",
    "colors = sns.color_palette(\"bright\")\n",
    "plot = plt.bar(x1,y1,color=colors)\n",
    "for value in plot:\n",
    "    height = value.get_height()\n",
    "    height =float(f'{height:.3f}')\n",
    "    plt.text(value.get_x() + value.get_width()/2.,\n",
    "             1.002*height,'%s' % (height)+'%', ha='center', va='bottom')\n",
    "    \n",
    "\n",
    "plt.show()"
   ]
  },
  {
   "cell_type": "code",
   "execution_count": 42,
   "id": "993672a6",
   "metadata": {},
   "outputs": [
    {
     "data": {
      "image/png": "[encoded data removed]",
      "text/plain": [
       "<Figure size 432x288 with 1 Axes>"
      ]
     },
     "metadata": {
      "needs_background": "light"
     },
     "output_type": "display_data"
    }
   ],
   "source": [
    "x1 = algorithm\n",
    "y2 = [round(num, 3)*100 for num in f1_test2] \n",
    "plt.title(\"Models' F1 score with specific test\")\n",
    "plt.xlabel('Model Name')\n",
    "plt.ylabel(\"F1 score\")\n",
    "colors = sns.color_palette(\"bright\")\n",
    "plot = plt.bar(x1,y2,color=colors)\n",
    "for value in plot:\n",
    "    height = value.get_height()\n",
    "    height =float(f'{height:.3f}')\n",
    "    plt.text(value.get_x() + value.get_width()/2.,\n",
    "             1.002*height,'%s' % (height)+'%', ha='center', va='bottom')\n",
    "    \n",
    "\n",
    "plt.show()"
   ]
  },
  {
   "cell_type": "code",
   "execution_count": 49,
   "id": "e8f7296f",
   "metadata": {},
   "outputs": [
    {
     "data": {
      "image/png": "[encoded data removed]",
      "text/plain": [
       "<Figure size 432x288 with 1 Axes>"
      ]
     },
     "metadata": {
      "needs_background": "light"
     },
     "output_type": "display_data"
    }
   ],
   "source": [
    "x1 = algorithm\n",
    "y1 = [round(num, 3)*100 for num in f1_test1] \n",
    "y2 = [round(num, 3)*100 for num in f1_test2] \n",
    "\n",
    "plt.title(\"Models' F1 score with normal test\")\n",
    "plt.xlabel('Model Name')\n",
    "plt.ylabel(\"F1 score\")\n",
    "colors = sns.color_palette(\"bright\")\n",
    "plt.bar(x1,y1,color=colors)\n",
    "plt.bar(x1,y2,color=colors)\n",
    "for value in plot:\n",
    "    height = value.get_height()\n",
    "    height =float(f'{height:.3f}')\n",
    "    plt.text(value.get_x() + value.get_width()/2.,\n",
    "             1.002*height,'%s' % (height)+'%', ha='center', va='bottom')\n",
    "    \n",
    "\n",
    "plt.show()"
   ]
  },
  {
   "cell_type": "code",
   "execution_count": 56,
   "id": "84de6703",
   "metadata": {},
   "outputs": [
    {
     "data": {
      "text/plain": [
       "<matplotlib.legend.Legend at 0x25904c1c850>"
      ]
     },
     "execution_count": 56,
     "metadata": {},
     "output_type": "execute_result"
    },
    {
     "data": {
      "image/png": "[encoded data removed]",
      "text/plain": [
       "<Figure size 432x288 with 1 Axes>"
      ]
     },
     "metadata": {
      "needs_background": "light"
     },
     "output_type": "display_data"
    }
   ],
   "source": [
    "fig, ax = plt.subplots()\n",
    "\n",
    "plotdata = pd.DataFrame(\n",
    "    {\"Normal Test\": y1,\"Specific Test\": y2}, \n",
    "    index=algorithm)\n",
    "# Plot a bar chart\n",
    "plotdata.plot(kind=\"bar\",ax=ax,color=colors)\n",
    "ax.legend([\"Normal Test\", \"Specific Test\"]);\n",
    "\n",
    "plt.legend(bbox_to_anchor=(1.0, 1.0))\n"
   ]
  },
  {
   "cell_type": "code",
   "execution_count": 57,
   "id": "dc6a37e1",
   "metadata": {},
   "outputs": [
    {
     "name": "stdout",
     "output_type": "stream",
     "text": [
      "['DT', 'RF', 'KNN', 'LR', 'XGboost', 'Ensemble']\n",
      "[99.9, 99.9, 99.9, 96.6, 99.9, 100.0]\n",
      "[87.8, 83.3, 89.5, 78.60000000000001, 84.7, 88.6]\n"
     ]
    }
   ],
   "source": [
    "print(algorithm)\n",
    "print(y1)\n",
    "print(y2)"
   ]
  },
  {
   "cell_type": "code",
   "execution_count": null,
   "id": "4d7ba787",
   "metadata": {},
   "outputs": [],
   "source": []
  }
 ],
 "metadata": {
  "kernelspec": {
   "display_name": "Python 3 (ipykernel)",
   "language": "python",
   "name": "python3"
  },
  "language_info": {
   "codemirror_mode": {
    "name": "ipython",
    "version": 3
   },
   "file_extension": ".py",
   "mimetype": "text/x-python",
   "name": "python",
   "nbconvert_exporter": "python",
   "pygments_lexer": "ipython3",
   "version": "3.8.12"
  }
 },
 "nbformat": 4,
 "nbformat_minor": 5
}
