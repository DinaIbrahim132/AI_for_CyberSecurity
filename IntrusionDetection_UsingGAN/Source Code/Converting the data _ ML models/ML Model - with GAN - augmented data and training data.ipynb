{
 "cells": [
  {
   "cell_type": "code",
   "execution_count": 1,
   "id": "9d9fd76e",
   "metadata": {},
   "outputs": [],
   "source": [
    "#Required Libraries\n",
    "# !pip install graphviz\n",
    "# !pip install seaborn\n",
    "# !pip install pydotplus\n",
    "import numpy as np\n",
    "import matplotlib.pyplot as plt\n",
    "from matplotlib.colors import ListedColormap\n",
    "import sklearn\n",
    "from sklearn.svm import SVC\n",
    "from sklearn import  datasets\n",
    "from sklearn import metrics\n",
    "from sklearn.metrics import classification_report,confusion_matrix,plot_confusion_matrix,accuracy_score\n",
    "from mlxtend.plotting import plot_decision_regions\n",
    "from sklearn.linear_model import LogisticRegression\n",
    "from sklearn.multiclass import OneVsRestClassifier\n",
    "from sklearn.tree import DecisionTreeClassifier \n",
    "from sklearn.tree import export_graphviz \n",
    "import seaborn as sns\n",
    "from IPython.display import Image  \n",
    "import pydotplus\n",
    "from sklearn.naive_bayes import GaussianNB\n",
    "from scipy.stats import norm\n",
    "import pandas\n",
    "from sklearn.model_selection import train_test_split\n",
    "from sklearn import preprocessing\n",
    "from sklearn.ensemble import RandomForestClassifier\n",
    "from sklearn.ensemble import AdaBoostClassifier\n",
    "from sklearn.naive_bayes import MultinomialNB\n",
    "import pandas\n",
    "from sklearn.utils import shuffle\n",
    "from sklearn import svm\n",
    "import xgboost as xgb\n",
    "import imblearn\n",
    "from collections import Counter\n",
    "from imblearn.over_sampling import SMOTE\n",
    "from sklearn.neighbors import KNeighborsRegressor\n",
    "from sklearn.ensemble import VotingClassifier\n",
    "from sklearn.metrics import accuracy_score\n",
    "from sklearn import preprocessing\n",
    "from xgboost import XGBClassifier\n",
    "import pandas as pd\n",
    "from sklearn.ensemble import RandomForestClassifier\n",
    "from sklearn.datasets import make_classification\n",
    "from sklearn import preprocessing\n",
    "from sklearn.preprocessing import OneHotEncoder\n",
    "from sklearn.preprocessing import LabelEncoder\n",
    "from sklearn.discriminant_analysis import LinearDiscriminantAnalysis as LDA\n",
    "from sklearn.preprocessing import Normalizer\n",
    "from sklearn.preprocessing import MinMaxScaler\n",
    "from sklearn.preprocessing import StandardScaler\n",
    "from sklearn.preprocessing import RobustScaler\n",
    "from sklearn.metrics import f1_score\n",
    "from pandas.api.types import CategoricalDtype \n",
    "from sklearn.neighbors import KNeighborsClassifier\n",
    "from sklearn.model_selection import learning_curve,GridSearchCV\n"
   ]
  },
  {
   "cell_type": "code",
   "execution_count": 2,
   "id": "9d64e1b2",
   "metadata": {},
   "outputs": [],
   "source": [
    "np.random.seed(50)\n",
    "df = pandas.read_csv('generated.csv')\n",
    "df2 = pandas.read_csv('Train.csv')\n",
    "df = pd.concat([df,df2])\n",
    "testing1= pandas.read_csv('Val.csv')\n",
    "testing2= pandas.read_csv('Test.csv')"
   ]
  },
  {
   "cell_type": "code",
   "execution_count": 3,
   "id": "ccbc5c6a",
   "metadata": {},
   "outputs": [],
   "source": [
    "algorithm=[]\n",
    "f1_test1=[]\n",
    "f1_test2=[]"
   ]
  },
  {
   "cell_type": "code",
   "execution_count": 4,
   "id": "ab27257e",
   "metadata": {},
   "outputs": [],
   "source": [
    "X = df\n",
    "y = X.attack\n",
    "X = X.drop(['attack'],axis=1)"
   ]
  },
  {
   "cell_type": "code",
   "execution_count": 5,
   "id": "5658cd28",
   "metadata": {},
   "outputs": [],
   "source": [
    "X_test1 = testing1\n",
    "y_test1 = X_test1.attack\n",
    "X_test1 = X_test1.drop(['attack'],axis=1)"
   ]
  },
  {
   "cell_type": "code",
   "execution_count": 6,
   "id": "63272fd9",
   "metadata": {},
   "outputs": [],
   "source": [
    "X_test2 = testing2\n",
    "y_test2 = X_test2.attack\n",
    "X_test2 = X_test2.drop(['attack'],axis=1)"
   ]
  },
  {
   "cell_type": "markdown",
   "id": "ab36f0a7",
   "metadata": {},
   "source": [
    "# DT"
   ]
  },
  {
   "cell_type": "code",
   "execution_count": 7,
   "id": "fa52d023",
   "metadata": {},
   "outputs": [
    {
     "name": "stdout",
     "output_type": "stream",
     "text": [
      "0.9993077336710294\n",
      "{'max_depth': 15}\n",
      "DecisionTreeClassifier(max_depth=15)\n"
     ]
    },
    {
     "data": {
      "text/plain": [
       "DecisionTreeClassifier(max_depth=15)"
      ]
     },
     "execution_count": 7,
     "metadata": {},
     "output_type": "execute_result"
    }
   ],
   "source": [
    "classifier = DecisionTreeClassifier()\n",
    "depth_range = list(range(5, 20))\n",
    "#param_grid_dt = dict(max_depth=depth_range)\n",
    "param = {'max_depth': depth_range}\n",
    "grid = GridSearchCV(classifier, param, cv=10, scoring='f1_macro')\n",
    "grid.fit(X, y)\n",
    "print(grid.best_score_)\n",
    "print(grid.best_params_)\n",
    "print(grid.best_estimator_)\n",
    "#static\n",
    "model = grid.best_estimator_\n",
    "model.fit(X, y)"
   ]
  },
  {
   "cell_type": "code",
   "execution_count": 8,
   "id": "4f3a17cb",
   "metadata": {},
   "outputs": [],
   "source": [
    "algorithm.append('DT')"
   ]
  },
  {
   "cell_type": "code",
   "execution_count": 9,
   "id": "1f0f3f91",
   "metadata": {},
   "outputs": [
    {
     "name": "stdout",
     "output_type": "stream",
     "text": [
      "F1 score : -> 0.9988061737869873\n",
      "\n",
      "Classification Report for DT : \n",
      "\n",
      "              precision    recall  f1-score   support\n",
      "\n",
      "           0       1.00      1.00      1.00     11309\n",
      "           1       1.00      1.00      1.00     11726\n",
      "\n",
      "    accuracy                           1.00     23035\n",
      "   macro avg       1.00      1.00      1.00     23035\n",
      "weighted avg       1.00      1.00      1.00     23035\n",
      "\n",
      "\n",
      "Confusion Matrix  :\n",
      " [[11294    15]\n",
      " [   13 11713]]\n"
     ]
    },
    {
     "name": "stderr",
     "output_type": "stream",
     "text": [
      "C:\\ProgramData\\Anaconda3\\lib\\site-packages\\sklearn\\utils\\deprecation.py:87: FutureWarning: Function plot_confusion_matrix is deprecated; Function `plot_confusion_matrix` is deprecated in 1.0 and will be removed in 1.2. Use one of the class methods: ConfusionMatrixDisplay.from_predictions or ConfusionMatrixDisplay.from_estimator.\n",
      "  warnings.warn(msg, category=FutureWarning)\n"
     ]
    },
    {
     "data": {
      "image/png": "[encoded data removed]",
      "text/plain": [
       "<Figure size 432x288 with 2 Axes>"
      ]
     },
     "metadata": {
      "needs_background": "light"
     },
     "output_type": "display_data"
    }
   ],
   "source": [
    "y_pred=model.predict(X_test1)\n",
    "Score= f1_score(y_test1,y_pred)\n",
    "print(\"F1 score : ->\",Score)\n",
    "print(f\"\\nClassification Report for DT : \\n\\n{classification_report(y_test1, y_pred)}\")\n",
    "print(\"\\nConfusion Matrix  :\\n\",confusion_matrix(y_test1,y_pred))\n",
    "plot_confusion_matrix(model ,X_test1 ,y_test1)\n",
    "plt.title(\"Confusion Matrix for DT \")\n",
    "f1_test1.append(Score)"
   ]
  },
  {
   "cell_type": "code",
   "execution_count": 10,
   "id": "6da124ab",
   "metadata": {},
   "outputs": [
    {
     "name": "stdout",
     "output_type": "stream",
     "text": [
      "F1 score : -> 0.8701124349723108\n",
      "\n",
      "Classification Report for DT : \n",
      "\n",
      "              precision    recall  f1-score   support\n",
      "\n",
      "           0       0.79      0.93      0.85      9711\n",
      "           1       0.94      0.81      0.87     12833\n",
      "\n",
      "    accuracy                           0.86     22544\n",
      "   macro avg       0.86      0.87      0.86     22544\n",
      "weighted avg       0.88      0.86      0.86     22544\n",
      "\n",
      "\n",
      "Confusion Matrix  :\n",
      " [[ 9078   633]\n",
      " [ 2463 10370]]\n"
     ]
    },
    {
     "name": "stderr",
     "output_type": "stream",
     "text": [
      "C:\\ProgramData\\Anaconda3\\lib\\site-packages\\sklearn\\utils\\deprecation.py:87: FutureWarning: Function plot_confusion_matrix is deprecated; Function `plot_confusion_matrix` is deprecated in 1.0 and will be removed in 1.2. Use one of the class methods: ConfusionMatrixDisplay.from_predictions or ConfusionMatrixDisplay.from_estimator.\n",
      "  warnings.warn(msg, category=FutureWarning)\n"
     ]
    },
    {
     "data": {
      "image/png": "[encoded data removed]",
      "text/plain": [
       "<Figure size 432x288 with 2 Axes>"
      ]
     },
     "metadata": {
      "needs_background": "light"
     },
     "output_type": "display_data"
    }
   ],
   "source": [
    "y_pred = model.predict(X_test2)\n",
    "Score = f1_score(y_test2,y_pred)\n",
    "print(\"F1 score : ->\",Score)\n",
    "print(f\"\\nClassification Report for DT : \\n\\n{classification_report(y_test2, y_pred)}\")\n",
    "print(\"\\nConfusion Matrix  :\\n\",confusion_matrix(y_test2,y_pred))\n",
    "plot_confusion_matrix(model ,X_test2 ,y_test2)\n",
    "plt.title(\"Confusion Matrix for DT \")\n",
    "f1_test2.append(Score)"
   ]
  },
  {
   "cell_type": "markdown",
   "id": "e46a1de7",
   "metadata": {},
   "source": [
    "# Random Forest"
   ]
  },
  {
   "cell_type": "code",
   "execution_count": 11,
   "id": "4ce0d653",
   "metadata": {},
   "outputs": [
    {
     "name": "stdout",
     "output_type": "stream",
     "text": [
      "0.9996929048016815\n",
      "{'n_estimators': 200}\n",
      "RandomForestClassifier(n_estimators=200)\n"
     ]
    },
    {
     "data": {
      "text/plain": [
       "RandomForestClassifier(n_estimators=200)"
      ]
     },
     "execution_count": 11,
     "metadata": {},
     "output_type": "execute_result"
    }
   ],
   "source": [
    "classifier = RandomForestClassifier()\n",
    "#param_grid_dt = dict(max_depth=depth_range)\n",
    "param = {\n",
    "    'n_estimators': [10, 30, 50, 80, 100, 200]\n",
    "    #'n_estimators': [80]\n",
    "}\n",
    "grid = GridSearchCV(classifier, param, cv=10, scoring='f1_macro')\n",
    "grid.fit(X, y)\n",
    "print(grid.best_score_)\n",
    "print(grid.best_params_)\n",
    "print(grid.best_estimator_)\n",
    "#static\n",
    "model = grid.best_estimator_\n",
    "model.fit(X, y)"
   ]
  },
  {
   "cell_type": "code",
   "execution_count": 12,
   "id": "99f138e0",
   "metadata": {},
   "outputs": [],
   "source": [
    "algorithm.append('RF')"
   ]
  },
  {
   "cell_type": "code",
   "execution_count": 13,
   "id": "beaa6d96",
   "metadata": {},
   "outputs": [
    {
     "name": "stdout",
     "output_type": "stream",
     "text": [
      "F1 score : -> 0.9994030868934936\n",
      "\n",
      "Classification Report for RF : \n",
      "\n",
      "              precision    recall  f1-score   support\n",
      "\n",
      "           0       1.00      1.00      1.00     11309\n",
      "           1       1.00      1.00      1.00     11726\n",
      "\n",
      "    accuracy                           1.00     23035\n",
      "   macro avg       1.00      1.00      1.00     23035\n",
      "weighted avg       1.00      1.00      1.00     23035\n",
      "\n",
      "\n",
      "Confusion Matrix  :\n",
      " [[11301     8]\n",
      " [    6 11720]]\n"
     ]
    },
    {
     "name": "stderr",
     "output_type": "stream",
     "text": [
      "C:\\ProgramData\\Anaconda3\\lib\\site-packages\\sklearn\\utils\\deprecation.py:87: FutureWarning: Function plot_confusion_matrix is deprecated; Function `plot_confusion_matrix` is deprecated in 1.0 and will be removed in 1.2. Use one of the class methods: ConfusionMatrixDisplay.from_predictions or ConfusionMatrixDisplay.from_estimator.\n",
      "  warnings.warn(msg, category=FutureWarning)\n"
     ]
    },
    {
     "data": {
      "image/png": "[encoded data removed]",
      "text/plain": [
       "<Figure size 432x288 with 2 Axes>"
      ]
     },
     "metadata": {
      "needs_background": "light"
     },
     "output_type": "display_data"
    }
   ],
   "source": [
    "y_pred=model.predict(X_test1)\n",
    "Score= f1_score(y_test1,y_pred)\n",
    "print(\"F1 score : ->\",Score)\n",
    "print(f\"\\nClassification Report for RF : \\n\\n{classification_report(y_test1, y_pred)}\")\n",
    "print(\"\\nConfusion Matrix  :\\n\",confusion_matrix(y_test1,y_pred))\n",
    "plot_confusion_matrix(model ,X_test1 ,y_test1)\n",
    "plt.title(\"Confusion Matrix for RF \")\n",
    "f1_test1.append(Score)"
   ]
  },
  {
   "cell_type": "code",
   "execution_count": 14,
   "id": "b33bf114",
   "metadata": {},
   "outputs": [
    {
     "name": "stdout",
     "output_type": "stream",
     "text": [
      "F1 score : -> 0.8358442915614387\n",
      "\n",
      "Classification Report for RF : \n",
      "\n",
      "              precision    recall  f1-score   support\n",
      "\n",
      "           0       0.74      0.94      0.83      9711\n",
      "           1       0.95      0.75      0.84     12833\n",
      "\n",
      "    accuracy                           0.83     22544\n",
      "   macro avg       0.84      0.85      0.83     22544\n",
      "weighted avg       0.86      0.83      0.83     22544\n",
      "\n",
      "\n",
      "Confusion Matrix  :\n",
      " [[9176  535]\n",
      " [3235 9598]]\n"
     ]
    },
    {
     "name": "stderr",
     "output_type": "stream",
     "text": [
      "C:\\ProgramData\\Anaconda3\\lib\\site-packages\\sklearn\\utils\\deprecation.py:87: FutureWarning: Function plot_confusion_matrix is deprecated; Function `plot_confusion_matrix` is deprecated in 1.0 and will be removed in 1.2. Use one of the class methods: ConfusionMatrixDisplay.from_predictions or ConfusionMatrixDisplay.from_estimator.\n",
      "  warnings.warn(msg, category=FutureWarning)\n"
     ]
    },
    {
     "data": {
      "image/png": "[encoded data removed]",
      "text/plain": [
       "<Figure size 432x288 with 2 Axes>"
      ]
     },
     "metadata": {
      "needs_background": "light"
     },
     "output_type": "display_data"
    }
   ],
   "source": [
    "y_pred = model.predict(X_test2)\n",
    "Score = f1_score(y_test2,y_pred)\n",
    "print(\"F1 score : ->\",Score)\n",
    "print(f\"\\nClassification Report for RF : \\n\\n{classification_report(y_test2, y_pred)}\")\n",
    "print(\"\\nConfusion Matrix  :\\n\",confusion_matrix(y_test2,y_pred))\n",
    "plot_confusion_matrix(model ,X_test2 ,y_test2)\n",
    "plt.title(\"Confusion Matrix for RF \")\n",
    "f1_test2.append(Score)"
   ]
  },
  {
   "cell_type": "markdown",
   "id": "8b64e995",
   "metadata": {},
   "source": [
    "# KNN"
   ]
  },
  {
   "cell_type": "code",
   "execution_count": 15,
   "id": "2073a1d2",
   "metadata": {},
   "outputs": [
    {
     "name": "stdout",
     "output_type": "stream",
     "text": [
      "0.9994274486733536\n",
      "{'n_neighbors': 1}\n",
      "KNeighborsClassifier(n_neighbors=1)\n"
     ]
    },
    {
     "data": {
      "text/plain": [
       "KNeighborsClassifier(n_neighbors=1)"
      ]
     },
     "execution_count": 15,
     "metadata": {},
     "output_type": "execute_result"
    }
   ],
   "source": [
    "classifier = KNeighborsClassifier()\n",
    "#param_grid_dt = dict(max_depth=depth_range)\n",
    "param = {\n",
    "    'n_neighbors': list(range(1, 4))\n",
    "    #'n_neighbors': [1]\n",
    "}\n",
    "grid = GridSearchCV(classifier, param, cv=10, scoring='f1_macro')\n",
    "grid.fit(X, y)\n",
    "print(grid.best_score_)\n",
    "print(grid.best_params_)\n",
    "print(grid.best_estimator_)\n",
    "#static\n",
    "model = grid.best_estimator_\n",
    "model.fit(X, y)"
   ]
  },
  {
   "cell_type": "code",
   "execution_count": 16,
   "id": "6928c359",
   "metadata": {},
   "outputs": [],
   "source": [
    "algorithm.append('KNN')"
   ]
  },
  {
   "cell_type": "code",
   "execution_count": 17,
   "id": "95d40d86",
   "metadata": {},
   "outputs": [
    {
     "name": "stdout",
     "output_type": "stream",
     "text": [
      "F1 score : -> 0.9990619936897758\n",
      "\n",
      "Classification Report for KNN : \n",
      "\n",
      "              precision    recall  f1-score   support\n",
      "\n",
      "           0       1.00      1.00      1.00     11309\n",
      "           1       1.00      1.00      1.00     11726\n",
      "\n",
      "    accuracy                           1.00     23035\n",
      "   macro avg       1.00      1.00      1.00     23035\n",
      "weighted avg       1.00      1.00      1.00     23035\n",
      "\n",
      "\n",
      "Confusion Matrix  :\n",
      " [[11297    12]\n",
      " [   10 11716]]\n"
     ]
    },
    {
     "name": "stderr",
     "output_type": "stream",
     "text": [
      "C:\\ProgramData\\Anaconda3\\lib\\site-packages\\sklearn\\utils\\deprecation.py:87: FutureWarning: Function plot_confusion_matrix is deprecated; Function `plot_confusion_matrix` is deprecated in 1.0 and will be removed in 1.2. Use one of the class methods: ConfusionMatrixDisplay.from_predictions or ConfusionMatrixDisplay.from_estimator.\n",
      "  warnings.warn(msg, category=FutureWarning)\n"
     ]
    },
    {
     "data": {
      "image/png": "[encoded data removed]",
      "text/plain": [
       "<Figure size 432x288 with 2 Axes>"
      ]
     },
     "metadata": {
      "needs_background": "light"
     },
     "output_type": "display_data"
    }
   ],
   "source": [
    "y_pred=model.predict(X_test1)\n",
    "Score= f1_score(y_test1,y_pred)\n",
    "print(\"F1 score : ->\",Score)\n",
    "print(f\"\\nClassification Report for KNN : \\n\\n{classification_report(y_test1, y_pred)}\")\n",
    "print(\"\\nConfusion Matrix  :\\n\",confusion_matrix(y_test1,y_pred))\n",
    "plot_confusion_matrix(model ,X_test1 ,y_test1)\n",
    "plt.title(\"Confusion Matrix for KNN \")\n",
    "f1_test1.append(Score)"
   ]
  },
  {
   "cell_type": "code",
   "execution_count": 18,
   "id": "b2f13156",
   "metadata": {},
   "outputs": [
    {
     "name": "stdout",
     "output_type": "stream",
     "text": [
      "F1 score : -> 0.8950324315772821\n",
      "\n",
      "Classification Report for KNN : \n",
      "\n",
      "              precision    recall  f1-score   support\n",
      "\n",
      "           0       0.85      0.88      0.87      9711\n",
      "           1       0.91      0.88      0.90     12833\n",
      "\n",
      "    accuracy                           0.88     22544\n",
      "   macro avg       0.88      0.88      0.88     22544\n",
      "weighted avg       0.88      0.88      0.88     22544\n",
      "\n",
      "\n",
      "Confusion Matrix  :\n",
      " [[ 8575  1136]\n",
      " [ 1518 11315]]\n"
     ]
    },
    {
     "name": "stderr",
     "output_type": "stream",
     "text": [
      "C:\\ProgramData\\Anaconda3\\lib\\site-packages\\sklearn\\utils\\deprecation.py:87: FutureWarning: Function plot_confusion_matrix is deprecated; Function `plot_confusion_matrix` is deprecated in 1.0 and will be removed in 1.2. Use one of the class methods: ConfusionMatrixDisplay.from_predictions or ConfusionMatrixDisplay.from_estimator.\n",
      "  warnings.warn(msg, category=FutureWarning)\n"
     ]
    },
    {
     "data": {
      "image/png": "[encoded data removed]",
      "text/plain": [
       "<Figure size 432x288 with 2 Axes>"
      ]
     },
     "metadata": {
      "needs_background": "light"
     },
     "output_type": "display_data"
    }
   ],
   "source": [
    "y_pred = model.predict(X_test2)\n",
    "Score = f1_score(y_test2,y_pred)\n",
    "print(\"F1 score : ->\",Score)\n",
    "print(f\"\\nClassification Report for KNN : \\n\\n{classification_report(y_test2, y_pred)}\")\n",
    "print(\"\\nConfusion Matrix  :\\n\",confusion_matrix(y_test2,y_pred))\n",
    "plot_confusion_matrix(model ,X_test2 ,y_test2)\n",
    "plt.title(\"Confusion Matrix for KNN \")\n",
    "f1_test2.append(Score)"
   ]
  },
  {
   "cell_type": "markdown",
   "id": "0838c07c",
   "metadata": {},
   "source": [
    "# Logistic Regression"
   ]
  },
  {
   "cell_type": "code",
   "execution_count": 19,
   "id": "35188ef4",
   "metadata": {},
   "outputs": [
    {
     "name": "stderr",
     "output_type": "stream",
     "text": [
      "C:\\ProgramData\\Anaconda3\\lib\\site-packages\\sklearn\\linear_model\\_logistic.py:814: ConvergenceWarning: lbfgs failed to converge (status=1):\n",
      "STOP: TOTAL NO. of ITERATIONS REACHED LIMIT.\n",
      "\n",
      "Increase the number of iterations (max_iter) or scale the data as shown in:\n",
      "    https://scikit-learn.org/stable/modules/preprocessing.html\n",
      "Please also refer to the documentation for alternative solver options:\n",
      "    https://scikit-learn.org/stable/modules/linear_model.html#logistic-regression\n",
      "  n_iter_i = _check_optimize_result(\n",
      "C:\\ProgramData\\Anaconda3\\lib\\site-packages\\sklearn\\linear_model\\_logistic.py:814: ConvergenceWarning: lbfgs failed to converge (status=1):\n",
      "STOP: TOTAL NO. of ITERATIONS REACHED LIMIT.\n",
      "\n",
      "Increase the number of iterations (max_iter) or scale the data as shown in:\n",
      "    https://scikit-learn.org/stable/modules/preprocessing.html\n",
      "Please also refer to the documentation for alternative solver options:\n",
      "    https://scikit-learn.org/stable/modules/linear_model.html#logistic-regression\n",
      "  n_iter_i = _check_optimize_result(\n",
      "C:\\ProgramData\\Anaconda3\\lib\\site-packages\\sklearn\\linear_model\\_logistic.py:814: ConvergenceWarning: lbfgs failed to converge (status=1):\n",
      "STOP: TOTAL NO. of ITERATIONS REACHED LIMIT.\n",
      "\n",
      "Increase the number of iterations (max_iter) or scale the data as shown in:\n",
      "    https://scikit-learn.org/stable/modules/preprocessing.html\n",
      "Please also refer to the documentation for alternative solver options:\n",
      "    https://scikit-learn.org/stable/modules/linear_model.html#logistic-regression\n",
      "  n_iter_i = _check_optimize_result(\n",
      "C:\\ProgramData\\Anaconda3\\lib\\site-packages\\sklearn\\linear_model\\_logistic.py:814: ConvergenceWarning: lbfgs failed to converge (status=1):\n",
      "STOP: TOTAL NO. of ITERATIONS REACHED LIMIT.\n",
      "\n",
      "Increase the number of iterations (max_iter) or scale the data as shown in:\n",
      "    https://scikit-learn.org/stable/modules/preprocessing.html\n",
      "Please also refer to the documentation for alternative solver options:\n",
      "    https://scikit-learn.org/stable/modules/linear_model.html#logistic-regression\n",
      "  n_iter_i = _check_optimize_result(\n",
      "C:\\ProgramData\\Anaconda3\\lib\\site-packages\\sklearn\\linear_model\\_logistic.py:814: ConvergenceWarning: lbfgs failed to converge (status=1):\n",
      "STOP: TOTAL NO. of ITERATIONS REACHED LIMIT.\n",
      "\n",
      "Increase the number of iterations (max_iter) or scale the data as shown in:\n",
      "    https://scikit-learn.org/stable/modules/preprocessing.html\n",
      "Please also refer to the documentation for alternative solver options:\n",
      "    https://scikit-learn.org/stable/modules/linear_model.html#logistic-regression\n",
      "  n_iter_i = _check_optimize_result(\n",
      "C:\\ProgramData\\Anaconda3\\lib\\site-packages\\sklearn\\linear_model\\_logistic.py:814: ConvergenceWarning: lbfgs failed to converge (status=1):\n",
      "STOP: TOTAL NO. of ITERATIONS REACHED LIMIT.\n",
      "\n",
      "Increase the number of iterations (max_iter) or scale the data as shown in:\n",
      "    https://scikit-learn.org/stable/modules/preprocessing.html\n",
      "Please also refer to the documentation for alternative solver options:\n",
      "    https://scikit-learn.org/stable/modules/linear_model.html#logistic-regression\n",
      "  n_iter_i = _check_optimize_result(\n",
      "C:\\ProgramData\\Anaconda3\\lib\\site-packages\\sklearn\\linear_model\\_logistic.py:814: ConvergenceWarning: lbfgs failed to converge (status=1):\n",
      "STOP: TOTAL NO. of ITERATIONS REACHED LIMIT.\n",
      "\n",
      "Increase the number of iterations (max_iter) or scale the data as shown in:\n",
      "    https://scikit-learn.org/stable/modules/preprocessing.html\n",
      "Please also refer to the documentation for alternative solver options:\n",
      "    https://scikit-learn.org/stable/modules/linear_model.html#logistic-regression\n",
      "  n_iter_i = _check_optimize_result(\n",
      "C:\\ProgramData\\Anaconda3\\lib\\site-packages\\sklearn\\linear_model\\_logistic.py:814: ConvergenceWarning: lbfgs failed to converge (status=1):\n",
      "STOP: TOTAL NO. of ITERATIONS REACHED LIMIT.\n",
      "\n",
      "Increase the number of iterations (max_iter) or scale the data as shown in:\n",
      "    https://scikit-learn.org/stable/modules/preprocessing.html\n",
      "Please also refer to the documentation for alternative solver options:\n",
      "    https://scikit-learn.org/stable/modules/linear_model.html#logistic-regression\n",
      "  n_iter_i = _check_optimize_result(\n",
      "C:\\ProgramData\\Anaconda3\\lib\\site-packages\\sklearn\\linear_model\\_logistic.py:814: ConvergenceWarning: lbfgs failed to converge (status=1):\n",
      "STOP: TOTAL NO. of ITERATIONS REACHED LIMIT.\n",
      "\n",
      "Increase the number of iterations (max_iter) or scale the data as shown in:\n",
      "    https://scikit-learn.org/stable/modules/preprocessing.html\n",
      "Please also refer to the documentation for alternative solver options:\n",
      "    https://scikit-learn.org/stable/modules/linear_model.html#logistic-regression\n",
      "  n_iter_i = _check_optimize_result(\n",
      "C:\\ProgramData\\Anaconda3\\lib\\site-packages\\sklearn\\linear_model\\_logistic.py:814: ConvergenceWarning: lbfgs failed to converge (status=1):\n",
      "STOP: TOTAL NO. of ITERATIONS REACHED LIMIT.\n",
      "\n",
      "Increase the number of iterations (max_iter) or scale the data as shown in:\n",
      "    https://scikit-learn.org/stable/modules/preprocessing.html\n",
      "Please also refer to the documentation for alternative solver options:\n",
      "    https://scikit-learn.org/stable/modules/linear_model.html#logistic-regression\n",
      "  n_iter_i = _check_optimize_result(\n",
      "C:\\ProgramData\\Anaconda3\\lib\\site-packages\\sklearn\\model_selection\\_validation.py:372: FitFailedWarning: \n",
      "20 fits failed out of a total of 30.\n",
      "The score on these train-test partitions for these parameters will be set to nan.\n",
      "If these failures are not expected, you can try to debug them by setting error_score='raise'.\n",
      "\n",
      "Below are more details about the failures:\n",
      "--------------------------------------------------------------------------------\n",
      "10 fits failed with the following error:\n",
      "Traceback (most recent call last):\n",
      "  File \"C:\\ProgramData\\Anaconda3\\lib\\site-packages\\sklearn\\model_selection\\_validation.py\", line 681, in _fit_and_score\n",
      "    estimator.fit(X_train, y_train, **fit_params)\n",
      "  File \"C:\\ProgramData\\Anaconda3\\lib\\site-packages\\sklearn\\linear_model\\_logistic.py\", line 1461, in fit\n",
      "    solver = _check_solver(self.solver, self.penalty, self.dual)\n",
      "  File \"C:\\ProgramData\\Anaconda3\\lib\\site-packages\\sklearn\\linear_model\\_logistic.py\", line 447, in _check_solver\n",
      "    raise ValueError(\n",
      "ValueError: Solver lbfgs supports only 'l2' or 'none' penalties, got l1 penalty.\n",
      "\n",
      "--------------------------------------------------------------------------------\n",
      "10 fits failed with the following error:\n",
      "Traceback (most recent call last):\n",
      "  File \"C:\\ProgramData\\Anaconda3\\lib\\site-packages\\sklearn\\model_selection\\_validation.py\", line 681, in _fit_and_score\n",
      "    estimator.fit(X_train, y_train, **fit_params)\n",
      "  File \"C:\\ProgramData\\Anaconda3\\lib\\site-packages\\sklearn\\linear_model\\_logistic.py\", line 1461, in fit\n",
      "    solver = _check_solver(self.solver, self.penalty, self.dual)\n",
      "  File \"C:\\ProgramData\\Anaconda3\\lib\\site-packages\\sklearn\\linear_model\\_logistic.py\", line 447, in _check_solver\n",
      "    raise ValueError(\n",
      "ValueError: Solver lbfgs supports only 'l2' or 'none' penalties, got elasticnet penalty.\n",
      "\n",
      "  warnings.warn(some_fits_failed_message, FitFailedWarning)\n",
      "C:\\ProgramData\\Anaconda3\\lib\\site-packages\\sklearn\\model_selection\\_search.py:969: UserWarning: One or more of the test scores are non-finite: [       nan 0.98313179        nan]\n",
      "  warnings.warn(\n",
      "C:\\ProgramData\\Anaconda3\\lib\\site-packages\\sklearn\\linear_model\\_logistic.py:814: ConvergenceWarning: lbfgs failed to converge (status=1):\n",
      "STOP: TOTAL NO. of ITERATIONS REACHED LIMIT.\n",
      "\n",
      "Increase the number of iterations (max_iter) or scale the data as shown in:\n",
      "    https://scikit-learn.org/stable/modules/preprocessing.html\n",
      "Please also refer to the documentation for alternative solver options:\n",
      "    https://scikit-learn.org/stable/modules/linear_model.html#logistic-regression\n",
      "  n_iter_i = _check_optimize_result(\n"
     ]
    },
    {
     "name": "stdout",
     "output_type": "stream",
     "text": [
      "0.9831317948448017\n",
      "{'penalty': 'l2', 'solver': 'lbfgs'}\n",
      "LogisticRegression()\n"
     ]
    },
    {
     "name": "stderr",
     "output_type": "stream",
     "text": [
      "C:\\ProgramData\\Anaconda3\\lib\\site-packages\\sklearn\\linear_model\\_logistic.py:814: ConvergenceWarning: lbfgs failed to converge (status=1):\n",
      "STOP: TOTAL NO. of ITERATIONS REACHED LIMIT.\n",
      "\n",
      "Increase the number of iterations (max_iter) or scale the data as shown in:\n",
      "    https://scikit-learn.org/stable/modules/preprocessing.html\n",
      "Please also refer to the documentation for alternative solver options:\n",
      "    https://scikit-learn.org/stable/modules/linear_model.html#logistic-regression\n",
      "  n_iter_i = _check_optimize_result(\n"
     ]
    },
    {
     "data": {
      "text/plain": [
       "LogisticRegression()"
      ]
     },
     "execution_count": 19,
     "metadata": {},
     "output_type": "execute_result"
    }
   ],
   "source": [
    "from sklearn.preprocessing import PolynomialFeatures\n",
    "\n",
    "classifier = LogisticRegression()\n",
    "#param_grid_dt = dict(max_depth=depth_range)\n",
    "param = {\n",
    "    'solver': ['lbfgs'],'penalty':[ 'l1', 'l2', 'elasticnet']\n",
    "    #'solver': ['lbfgs'],'penalty':['l2']\n",
    "}\n",
    "grid = GridSearchCV(classifier, param, cv=10, scoring='f1_macro')\n",
    "grid.fit(X, y)\n",
    "print(grid.best_score_)\n",
    "print(grid.best_params_)\n",
    "print(grid.best_estimator_)\n",
    "#static\n",
    "model = grid.best_estimator_\n",
    "model.fit(X, y)"
   ]
  },
  {
   "cell_type": "code",
   "execution_count": 20,
   "id": "6b311b78",
   "metadata": {},
   "outputs": [],
   "source": [
    "algorithm.append('LR')"
   ]
  },
  {
   "cell_type": "code",
   "execution_count": 21,
   "id": "e7d7b425",
   "metadata": {},
   "outputs": [
    {
     "name": "stderr",
     "output_type": "stream",
     "text": [
      "C:\\ProgramData\\Anaconda3\\lib\\site-packages\\sklearn\\utils\\deprecation.py:87: FutureWarning: Function plot_confusion_matrix is deprecated; Function `plot_confusion_matrix` is deprecated in 1.0 and will be removed in 1.2. Use one of the class methods: ConfusionMatrixDisplay.from_predictions or ConfusionMatrixDisplay.from_estimator.\n",
      "  warnings.warn(msg, category=FutureWarning)\n"
     ]
    },
    {
     "name": "stdout",
     "output_type": "stream",
     "text": [
      "F1 score : -> 0.9658733915737833\n",
      "\n",
      "Classification Report for KNN : \n",
      "\n",
      "              precision    recall  f1-score   support\n",
      "\n",
      "           0       0.96      0.97      0.97     11309\n",
      "           1       0.97      0.96      0.97     11726\n",
      "\n",
      "    accuracy                           0.97     23035\n",
      "   macro avg       0.97      0.97      0.97     23035\n",
      "weighted avg       0.97      0.97      0.97     23035\n",
      "\n",
      "\n",
      "Confusion Matrix  :\n",
      " [[11020   289]\n",
      " [  504 11222]]\n"
     ]
    },
    {
     "data": {
      "image/png": "[encoded data removed]",
      "text/plain": [
       "<Figure size 432x288 with 2 Axes>"
      ]
     },
     "metadata": {
      "needs_background": "light"
     },
     "output_type": "display_data"
    }
   ],
   "source": [
    "y_pred=model.predict(X_test1)\n",
    "Score= f1_score(y_test1,y_pred)\n",
    "print(\"F1 score : ->\",Score)\n",
    "print(f\"\\nClassification Report for KNN : \\n\\n{classification_report(y_test1, y_pred)}\")\n",
    "print(\"\\nConfusion Matrix  :\\n\",confusion_matrix(y_test1,y_pred))\n",
    "plot_confusion_matrix(model ,X_test1 ,y_test1)\n",
    "plt.title(\"Confusion Matrix for KNN \")\n",
    "f1_test1.append(Score)"
   ]
  },
  {
   "cell_type": "code",
   "execution_count": 22,
   "id": "e73dbe1b",
   "metadata": {},
   "outputs": [
    {
     "name": "stdout",
     "output_type": "stream",
     "text": [
      "F1 score : -> 0.7912791452178052\n",
      "\n",
      "Classification Report for KNN : \n",
      "\n",
      "              precision    recall  f1-score   support\n",
      "\n",
      "           0       0.70      0.88      0.78      9711\n",
      "           1       0.89      0.71      0.79     12833\n",
      "\n",
      "    accuracy                           0.79     22544\n",
      "   macro avg       0.79      0.80      0.79     22544\n",
      "weighted avg       0.81      0.79      0.79     22544\n",
      "\n",
      "\n",
      "Confusion Matrix  :\n",
      " [[8573 1138]\n",
      " [3687 9146]]\n"
     ]
    },
    {
     "name": "stderr",
     "output_type": "stream",
     "text": [
      "C:\\ProgramData\\Anaconda3\\lib\\site-packages\\sklearn\\utils\\deprecation.py:87: FutureWarning: Function plot_confusion_matrix is deprecated; Function `plot_confusion_matrix` is deprecated in 1.0 and will be removed in 1.2. Use one of the class methods: ConfusionMatrixDisplay.from_predictions or ConfusionMatrixDisplay.from_estimator.\n",
      "  warnings.warn(msg, category=FutureWarning)\n"
     ]
    },
    {
     "data": {
      "image/png": "[encoded data removed]",
      "text/plain": [
       "<Figure size 432x288 with 2 Axes>"
      ]
     },
     "metadata": {
      "needs_background": "light"
     },
     "output_type": "display_data"
    }
   ],
   "source": [
    "y_pred = model.predict(X_test2)\n",
    "Score = f1_score(y_test2,y_pred)\n",
    "print(\"F1 score : ->\",Score)\n",
    "print(f\"\\nClassification Report for KNN : \\n\\n{classification_report(y_test2, y_pred)}\")\n",
    "print(\"\\nConfusion Matrix  :\\n\",confusion_matrix(y_test2,y_pred))\n",
    "plot_confusion_matrix(model ,X_test2 ,y_test2)\n",
    "plt.title(\"Confusion Matrix for KNN \")\n",
    "f1_test2.append(Score)"
   ]
  },
  {
   "cell_type": "markdown",
   "id": "60e9cabf",
   "metadata": {},
   "source": [
    "# XGboost"
   ]
  },
  {
   "cell_type": "code",
   "execution_count": 24,
   "id": "5702b1ea",
   "metadata": {},
   "outputs": [
    {
     "name": "stdout",
     "output_type": "stream",
     "text": [
      "0.9995055290878063\n",
      "{'max_depth': 5}\n",
      "XGBClassifier(base_score=0.5, booster='gbtree', colsample_bylevel=1,\n",
      "              colsample_bynode=1, colsample_bytree=1, eval_metric='logloss',\n",
      "              gamma=0, gpu_id=-1, importance_type='gain',\n",
      "              interaction_constraints='', learning_rate=0.02, max_delta_step=0,\n",
      "              max_depth=5, min_child_weight=1, missing=nan,\n",
      "              monotone_constraints='()', n_estimators=600, n_jobs=12,\n",
      "              num_parallel_tree=1, random_state=0, reg_alpha=0, reg_lambda=1,\n",
      "              scale_pos_weight=1, subsample=1, tree_method='exact',\n",
      "              use_label_encoder=False, validate_parameters=1, verbosity=None)\n"
     ]
    },
    {
     "data": {
      "text/plain": [
       "XGBClassifier(base_score=0.5, booster='gbtree', colsample_bylevel=1,\n",
       "              colsample_bynode=1, colsample_bytree=1, eval_metric='logloss',\n",
       "              gamma=0, gpu_id=-1, importance_type='gain',\n",
       "              interaction_constraints='', learning_rate=0.02, max_delta_step=0,\n",
       "              max_depth=5, min_child_weight=1, missing=nan,\n",
       "              monotone_constraints='()', n_estimators=600, n_jobs=12,\n",
       "              num_parallel_tree=1, random_state=0, reg_alpha=0, reg_lambda=1,\n",
       "              scale_pos_weight=1, subsample=1, tree_method='exact',\n",
       "              use_label_encoder=False, validate_parameters=1, verbosity=None)"
      ]
     },
     "execution_count": 24,
     "metadata": {},
     "output_type": "execute_result"
    }
   ],
   "source": [
    "classifier = XGBClassifier(learning_rate=0.02, n_estimators=600, use_label_encoder=False,eval_metric='logloss')\n",
    "param = {\n",
    "    'max_depth': [2, 4, 5]\n",
    "    #'max_depth': [5]\n",
    "}\n",
    "grid = GridSearchCV(classifier, param, cv=5, scoring='f1_macro')\n",
    "grid.fit(X, y)\n",
    "print(grid.best_score_)\n",
    "print(grid.best_params_)\n",
    "print(grid.best_estimator_)\n",
    "#static\n",
    "model = grid.best_estimator_\n",
    "model.fit(X, y)"
   ]
  },
  {
   "cell_type": "code",
   "execution_count": 25,
   "id": "b17e326b",
   "metadata": {},
   "outputs": [],
   "source": [
    "algorithm.append('XGboost')"
   ]
  },
  {
   "cell_type": "code",
   "execution_count": 26,
   "id": "f7ba565d",
   "metadata": {},
   "outputs": [
    {
     "name": "stdout",
     "output_type": "stream",
     "text": [
      "F1 score : -> 0.999275084218157\n",
      "\n",
      "Classification Report for KNN : \n",
      "\n",
      "              precision    recall  f1-score   support\n",
      "\n",
      "           0       1.00      1.00      1.00     11309\n",
      "           1       1.00      1.00      1.00     11726\n",
      "\n",
      "    accuracy                           1.00     23035\n",
      "   macro avg       1.00      1.00      1.00     23035\n",
      "weighted avg       1.00      1.00      1.00     23035\n",
      "\n",
      "\n",
      "Confusion Matrix  :\n",
      " [[11301     8]\n",
      " [    9 11717]]\n"
     ]
    },
    {
     "name": "stderr",
     "output_type": "stream",
     "text": [
      "C:\\ProgramData\\Anaconda3\\lib\\site-packages\\sklearn\\utils\\deprecation.py:87: FutureWarning: Function plot_confusion_matrix is deprecated; Function `plot_confusion_matrix` is deprecated in 1.0 and will be removed in 1.2. Use one of the class methods: ConfusionMatrixDisplay.from_predictions or ConfusionMatrixDisplay.from_estimator.\n",
      "  warnings.warn(msg, category=FutureWarning)\n"
     ]
    },
    {
     "data": {
      "image/png": "[encoded data removed]",
      "text/plain": [
       "<Figure size 432x288 with 2 Axes>"
      ]
     },
     "metadata": {
      "needs_background": "light"
     },
     "output_type": "display_data"
    }
   ],
   "source": [
    "y_pred=model.predict(X_test1)\n",
    "Score= f1_score(y_test1,y_pred)\n",
    "print(\"F1 score : ->\",Score)\n",
    "print(f\"\\nClassification Report for KNN : \\n\\n{classification_report(y_test1, y_pred)}\")\n",
    "print(\"\\nConfusion Matrix  :\\n\",confusion_matrix(y_test1,y_pred))\n",
    "plot_confusion_matrix(model ,X_test1 ,y_test1)\n",
    "plt.title(\"Confusion Matrix for KNN \")\n",
    "f1_test1.append(Score)"
   ]
  },
  {
   "cell_type": "code",
   "execution_count": 27,
   "id": "54db7252",
   "metadata": {},
   "outputs": [
    {
     "name": "stdout",
     "output_type": "stream",
     "text": [
      "F1 score : -> 0.8321455117834813\n",
      "\n",
      "Classification Report for KNN : \n",
      "\n",
      "              precision    recall  f1-score   support\n",
      "\n",
      "           0       0.73      0.95      0.83      9711\n",
      "           1       0.95      0.74      0.83     12833\n",
      "\n",
      "    accuracy                           0.83     22544\n",
      "   macro avg       0.84      0.84      0.83     22544\n",
      "weighted avg       0.86      0.83      0.83     22544\n",
      "\n",
      "\n",
      "Confusion Matrix  :\n",
      " [[9189  522]\n",
      " [3317 9516]]\n"
     ]
    },
    {
     "name": "stderr",
     "output_type": "stream",
     "text": [
      "C:\\ProgramData\\Anaconda3\\lib\\site-packages\\sklearn\\utils\\deprecation.py:87: FutureWarning: Function plot_confusion_matrix is deprecated; Function `plot_confusion_matrix` is deprecated in 1.0 and will be removed in 1.2. Use one of the class methods: ConfusionMatrixDisplay.from_predictions or ConfusionMatrixDisplay.from_estimator.\n",
      "  warnings.warn(msg, category=FutureWarning)\n"
     ]
    },
    {
     "data": {
      "image/png": "[encoded data removed]",
      "text/plain": [
       "<Figure size 432x288 with 2 Axes>"
      ]
     },
     "metadata": {
      "needs_background": "light"
     },
     "output_type": "display_data"
    }
   ],
   "source": [
    "y_pred = model.predict(X_test2)\n",
    "Score = f1_score(y_test2,y_pred)\n",
    "print(\"F1 score : ->\",Score)\n",
    "print(f\"\\nClassification Report for KNN : \\n\\n{classification_report(y_test2, y_pred)}\")\n",
    "print(\"\\nConfusion Matrix  :\\n\",confusion_matrix(y_test2,y_pred))\n",
    "plot_confusion_matrix(model ,X_test2 ,y_test2)\n",
    "plt.title(\"Confusion Matrix for KNN \")\n",
    "f1_test2.append(Score)"
   ]
  },
  {
   "cell_type": "markdown",
   "id": "e93529d8",
   "metadata": {},
   "source": [
    "# Majority Voting"
   ]
  },
  {
   "cell_type": "code",
   "execution_count": 28,
   "id": "d5a548d5",
   "metadata": {},
   "outputs": [],
   "source": [
    "models = []\n",
    "models.append(('KNN', KNeighborsClassifier(n_neighbors=1)))\n",
    "models.append(('DT', DecisionTreeClassifier(max_depth=16)))\n",
    "models.append(('XGBoost', XGBClassifier(learning_rate=0.02, n_estimators=600, use_label_encoder=False, eval_metric='logloss', max_depth= 5)))"
   ]
  },
  {
   "cell_type": "code",
   "execution_count": 29,
   "id": "71fbb9ac",
   "metadata": {},
   "outputs": [
    {
     "data": {
      "text/plain": [
       "VotingClassifier(estimators=[('KNN', KNeighborsClassifier(n_neighbors=1)),\n",
       "                             ('DT', DecisionTreeClassifier(max_depth=16)),\n",
       "                             ('XGBoost',\n",
       "                              XGBClassifier(base_score=None, booster=None,\n",
       "                                            colsample_bylevel=None,\n",
       "                                            colsample_bynode=None,\n",
       "                                            colsample_bytree=None,\n",
       "                                            eval_metric='logloss', gamma=None,\n",
       "                                            gpu_id=None, importance_type='gain',\n",
       "                                            interaction_constraints=None,\n",
       "                                            learning_rate=0.02,\n",
       "                                            max_delta_step=None, max_depth=5,\n",
       "                                            min_child_weight=None, missing=nan,\n",
       "                                            monotone_constraints=None,\n",
       "                                            n_estimators=600, n_jobs=None,\n",
       "                                            num_parallel_tree=None,\n",
       "                                            random_state=None, reg_alpha=None,\n",
       "                                            reg_lambda=None,\n",
       "                                            scale_pos_weight=None,\n",
       "                                            subsample=None, tree_method=None,\n",
       "                                            use_label_encoder=False,\n",
       "                                            validate_parameters=None,\n",
       "                                            verbosity=None))],\n",
       "                 voting='soft')"
      ]
     },
     "execution_count": 29,
     "metadata": {},
     "output_type": "execute_result"
    }
   ],
   "source": [
    "model = VotingClassifier(estimators=models, voting='soft')\n",
    "model.fit(X,y)"
   ]
  },
  {
   "cell_type": "code",
   "execution_count": 30,
   "id": "9b38ba2c",
   "metadata": {},
   "outputs": [],
   "source": [
    "algorithm.append('Ensemble')"
   ]
  },
  {
   "cell_type": "code",
   "execution_count": 31,
   "id": "ea56119c",
   "metadata": {},
   "outputs": [
    {
     "name": "stdout",
     "output_type": "stream",
     "text": [
      "F1 score : -> 0.9996588777076582\n",
      "\n",
      "Classification Report for Ensemble : \n",
      "\n",
      "              precision    recall  f1-score   support\n",
      "\n",
      "           0       1.00      1.00      1.00     11309\n",
      "           1       1.00      1.00      1.00     11726\n",
      "\n",
      "    accuracy                           1.00     23035\n",
      "   macro avg       1.00      1.00      1.00     23035\n",
      "weighted avg       1.00      1.00      1.00     23035\n",
      "\n",
      "\n",
      "Confusion Matrix  :\n",
      " [[11305     4]\n",
      " [    4 11722]]\n"
     ]
    },
    {
     "name": "stderr",
     "output_type": "stream",
     "text": [
      "C:\\ProgramData\\Anaconda3\\lib\\site-packages\\sklearn\\utils\\deprecation.py:87: FutureWarning: Function plot_confusion_matrix is deprecated; Function `plot_confusion_matrix` is deprecated in 1.0 and will be removed in 1.2. Use one of the class methods: ConfusionMatrixDisplay.from_predictions or ConfusionMatrixDisplay.from_estimator.\n",
      "  warnings.warn(msg, category=FutureWarning)\n"
     ]
    },
    {
     "data": {
      "image/png": "[encoded data removed]",
      "text/plain": [
       "<Figure size 432x288 with 2 Axes>"
      ]
     },
     "metadata": {
      "needs_background": "light"
     },
     "output_type": "display_data"
    }
   ],
   "source": [
    "y_pred=model.predict(X_test1)\n",
    "Score= f1_score(y_test1,y_pred)\n",
    "print(\"F1 score : ->\",Score)\n",
    "print(f\"\\nClassification Report for Ensemble : \\n\\n{classification_report(y_test1, y_pred)}\")\n",
    "print(\"\\nConfusion Matrix  :\\n\",confusion_matrix(y_test1,y_pred))\n",
    "plot_confusion_matrix(model ,X_test1 ,y_test1)\n",
    "plt.title(\"Confusion Matrix for Ensemble \")\n",
    "f1_test1.append(Score)"
   ]
  },
  {
   "cell_type": "code",
   "execution_count": 32,
   "id": "bc459515",
   "metadata": {},
   "outputs": [
    {
     "name": "stdout",
     "output_type": "stream",
     "text": [
      "F1 score : -> 0.8749111287691856\n",
      "\n",
      "Classification Report for Ensemble : \n",
      "\n",
      "              precision    recall  f1-score   support\n",
      "\n",
      "           0       0.79      0.94      0.86      9711\n",
      "           1       0.94      0.82      0.87     12833\n",
      "\n",
      "    accuracy                           0.87     22544\n",
      "   macro avg       0.87      0.88      0.87     22544\n",
      "weighted avg       0.88      0.87      0.87     22544\n",
      "\n",
      "\n",
      "Confusion Matrix  :\n",
      " [[ 9093   618]\n",
      " [ 2373 10460]]\n"
     ]
    },
    {
     "name": "stderr",
     "output_type": "stream",
     "text": [
      "C:\\ProgramData\\Anaconda3\\lib\\site-packages\\sklearn\\utils\\deprecation.py:87: FutureWarning: Function plot_confusion_matrix is deprecated; Function `plot_confusion_matrix` is deprecated in 1.0 and will be removed in 1.2. Use one of the class methods: ConfusionMatrixDisplay.from_predictions or ConfusionMatrixDisplay.from_estimator.\n",
      "  warnings.warn(msg, category=FutureWarning)\n"
     ]
    },
    {
     "data": {
      "image/png": "[encoded data removed]",
      "text/plain": [
       "<Figure size 432x288 with 2 Axes>"
      ]
     },
     "metadata": {
      "needs_background": "light"
     },
     "output_type": "display_data"
    }
   ],
   "source": [
    "y_pred = model.predict(X_test2)\n",
    "Score = f1_score(y_test2,y_pred)\n",
    "print(\"F1 score : ->\",Score)\n",
    "print(f\"\\nClassification Report for Ensemble : \\n\\n{classification_report(y_test2, y_pred)}\")\n",
    "print(\"\\nConfusion Matrix  :\\n\",confusion_matrix(y_test2,y_pred))\n",
    "plot_confusion_matrix(model ,X_test2 ,y_test2)\n",
    "plt.title(\"Confusion Matrix for Ensemble \")\n",
    "f1_test2.append(Score)"
   ]
  },
  {
   "cell_type": "markdown",
   "id": "59eb6e28",
   "metadata": {},
   "source": [
    "# Results"
   ]
  },
  {
   "cell_type": "code",
   "execution_count": 33,
   "id": "8de55c6c",
   "metadata": {},
   "outputs": [],
   "source": [
    "for i in range(0, len(algorithm)):\n",
    "    f1_test1[i] = round(f1_test1[i], 3)\n",
    "    f1_test2[i] = round(f1_test2[i], 3)"
   ]
  },
  {
   "cell_type": "code",
   "execution_count": 34,
   "id": "859b8b1d",
   "metadata": {},
   "outputs": [
    {
     "data": {
      "text/plain": [
       "[0.87, 0.836, 0.895, 0.791, 0.832, 0.875]"
      ]
     },
     "execution_count": 34,
     "metadata": {},
     "output_type": "execute_result"
    }
   ],
   "source": [
    "f1_test2"
   ]
  },
  {
   "cell_type": "code",
   "execution_count": 35,
   "id": "da5a9e6d",
   "metadata": {},
   "outputs": [
    {
     "data": {
      "image/png": "[encoded data removed]",
      "text/plain": [
       "<Figure size 432x288 with 1 Axes>"
      ]
     },
     "metadata": {
      "needs_background": "light"
     },
     "output_type": "display_data"
    }
   ],
   "source": [
    "x1 = algorithm\n",
    "y1 = [round(num, 3)*100 for num in f1_test1] \n",
    "plt.title(\"Models' F1 score with normal test\")\n",
    "plt.xlabel('Model Name')\n",
    "plt.ylabel(\"F1 score\")\n",
    "colors = sns.color_palette(\"bright\")\n",
    "plot = plt.bar(x1,y1,color=colors)\n",
    "for value in plot:\n",
    "    height = value.get_height()\n",
    "    height =float(f'{height:.3f}')\n",
    "    plt.text(value.get_x() + value.get_width()/2.,\n",
    "             1.002*height,'%s' % (height)+'%', ha='center', va='bottom')\n",
    "    \n",
    "\n",
    "plt.show()"
   ]
  },
  {
   "cell_type": "code",
   "execution_count": 36,
   "id": "183bac1d",
   "metadata": {},
   "outputs": [
    {
     "data": {
      "image/png": "[encoded data removed]",
      "text/plain": [
       "<Figure size 432x288 with 1 Axes>"
      ]
     },
     "metadata": {
      "needs_background": "light"
     },
     "output_type": "display_data"
    }
   ],
   "source": [
    "x1 = algorithm\n",
    "y2 = [round(num, 3)*100 for num in f1_test2] \n",
    "plt.title(\"Models' F1 score with specific test\")\n",
    "plt.xlabel('Model Name')\n",
    "plt.ylabel(\"F1 score\")\n",
    "colors = sns.color_palette(\"bright\")\n",
    "plot = plt.bar(x1,y2,color=colors)\n",
    "for value in plot:\n",
    "    height = value.get_height()\n",
    "    height =float(f'{height:.3f}')\n",
    "    plt.text(value.get_x() + value.get_width()/2.,\n",
    "             1.002*height,'%s' % (height)+'%', ha='center', va='bottom')\n",
    "    \n",
    "\n",
    "plt.show()"
   ]
  },
  {
   "cell_type": "code",
   "execution_count": 37,
   "id": "74ad4565",
   "metadata": {},
   "outputs": [
    {
     "data": {
      "text/plain": [
       "<matplotlib.legend.Legend at 0x27b87115df0>"
      ]
     },
     "execution_count": 37,
     "metadata": {},
     "output_type": "execute_result"
    },
    {
     "data": {
      "image/png": "[encoded data removed]",
      "text/plain": [
       "<Figure size 432x288 with 1 Axes>"
      ]
     },
     "metadata": {
      "needs_background": "light"
     },
     "output_type": "display_data"
    }
   ],
   "source": [
    "fig, ax = plt.subplots()\n",
    "\n",
    "plotdata = pd.DataFrame(\n",
    "    {\"Normal Test\": y1,\"Specific Test\": y2}, \n",
    "    index=algorithm)\n",
    "# Plot a bar chart\n",
    "plotdata.plot(kind=\"bar\",ax=ax,color=colors)\n",
    "ax.legend([\"Normal Test\", \"Specific Test\"]);\n",
    "\n",
    "plt.legend(bbox_to_anchor=(1.0, 1.0))"
   ]
  },
  {
   "cell_type": "code",
   "execution_count": 42,
   "id": "3702bb75",
   "metadata": {},
   "outputs": [
    {
     "name": "stdout",
     "output_type": "stream",
     "text": [
      "['DT', 'RF', 'KNN', 'LR', 'XGboost', 'Ensemble']\n",
      "[99.9, 99.9, 99.9, 96.6, 99.9, 100.0]\n",
      "[87.0, 83.6, 89.5, 79.10000000000001, 83.2, 87.5]\n"
     ]
    }
   ],
   "source": [
    "print(algorithm)\n",
    "print(y1)\n",
    "print(y2)"
   ]
  },
  {
   "cell_type": "code",
   "execution_count": null,
   "id": "11681836",
   "metadata": {},
   "outputs": [],
   "source": []
  }
 ],
 "metadata": {
  "kernelspec": {
   "display_name": "Python 3 (ipykernel)",
   "language": "python",
   "name": "python3"
  },
  "language_info": {
   "codemirror_mode": {
    "name": "ipython",
    "version": 3
   },
   "file_extension": ".py",
   "mimetype": "text/x-python",
   "name": "python",
   "nbconvert_exporter": "python",
   "pygments_lexer": "ipython3",
   "version": "3.8.12"
  }
 },
 "nbformat": 4,
 "nbformat_minor": 5
}
